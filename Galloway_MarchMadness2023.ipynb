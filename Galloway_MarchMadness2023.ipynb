{
 "cells": [
  {
   "cell_type": "markdown",
   "id": "f6639794",
   "metadata": {},
   "source": [
    "This notebook goes through predicting the probabilities of outcomes for both the men's and women's NCAA tournaments. "
   ]
  },
  {
   "cell_type": "code",
   "execution_count": 11,
   "id": "5bc53b38",
   "metadata": {},
   "outputs": [],
   "source": [
    "import pandas as pd\n",
    "import numpy as np\n",
    "\n",
    "df_past_tourneys = pd.read_csv('Final_Data2_0.csv')"
   ]
  },
  {
   "cell_type": "code",
   "execution_count": 12,
   "id": "68bd2cad",
   "metadata": {},
   "outputs": [],
   "source": [
    "df_past_tourneys['Round'] = 0"
   ]
  },
  {
   "cell_type": "code",
   "execution_count": 13,
   "id": "b4f2bee3",
   "metadata": {},
   "outputs": [],
   "source": [
    "del df_past_tourneys['Round']"
   ]
  },
  {
   "cell_type": "code",
   "execution_count": 14,
   "id": "6b0acecd",
   "metadata": {},
   "outputs": [
    {
     "data": {
      "text/plain": [
       "Final_Data_M_Season     2005\n",
       "DayNum                   138\n",
       "Team1Score                69\n",
       "O_Season                2005\n",
       "O_TeamID                1246\n",
       "                       ...  \n",
       "Team1Max_Rank              3\n",
       "Team1Last_Rank             9\n",
       "Team2Avg_Rank          17.97\n",
       "Team2Max_Rank              3\n",
       "Team2Last_Rank            21\n",
       "Name: 135, Length: 110, dtype: object"
      ]
     },
     "execution_count": 14,
     "metadata": {},
     "output_type": "execute_result"
    }
   ],
   "source": [
    "df_past_tourneys.loc[135,:]"
   ]
  },
  {
   "cell_type": "code",
   "execution_count": 15,
   "id": "82f286e1",
   "metadata": {},
   "outputs": [],
   "source": [
    "del df_past_tourneys['O_Season']\n",
    "del df_past_tourneys['OO_Season']\n",
    "# del df_past_tourneys['O_Conf_Tourney_Wins']\n",
    "# del df_past_tourneys['O_Conf_Tourney_Losses']\n",
    "# del df_past_tourneys['OO_Conf_Tourney_Wins']\n",
    "# del df_past_tourneys['OO_Conf_Tourney_Losses']"
   ]
  },
  {
   "cell_type": "code",
   "execution_count": 16,
   "id": "47c6ad19",
   "metadata": {},
   "outputs": [
    {
     "data": {
      "text/plain": [
       "1120"
      ]
     },
     "execution_count": 16,
     "metadata": {},
     "output_type": "execute_result"
    }
   ],
   "source": [
    "len(df_past_tourneys)"
   ]
  },
  {
   "cell_type": "code",
   "execution_count": 17,
   "id": "be925438",
   "metadata": {},
   "outputs": [
    {
     "name": "stdout",
     "output_type": "stream",
     "text": [
      " 'Final_Data_M_Season' , \n",
      " 'DayNum' , \n",
      " 'Team1Score' , \n",
      " 'O_TeamID' , \n",
      " 'O_Reg_Szn_Wins' , \n",
      " 'O_Reg_Szn_Losses' , \n",
      " 'O_Reg_Szn_Home_Wins' , \n",
      " 'O_Reg_Szn_Home_Losses' , \n",
      " 'O_Reg_Szn_Away_Wins' , \n",
      " 'O_Reg_Szn_Away_Losses' , \n",
      " 'O_Reg_Szn_Neutral_Wins' , \n",
      " 'O_Reg_Szn_Neutral_Losses' , \n",
      " 'O_Rec1_Reg_Szn_Wins' , \n",
      " 'O_Rec1_Reg_Szn_Avg_Win_Margin' , \n",
      " 'O_Rec1_Reg_Szn_Losses' , \n",
      " 'O_Rec1_Reg_Szn_Avg_Loss_Margin' , \n",
      " 'O_Rec1_Reg_Szn_Home_Wins' , \n",
      " 'O_Rec1_Reg_Szn_Avg_Home_Win_Margin' , \n",
      " 'O_Rec1_Reg_Szn_Home_Losses' , \n",
      " 'O_Rec1_Reg_Szn_Avg_Home_Loss_Margin' , \n",
      " 'O_Rec1_Reg_Szn_Away_Wins' , \n",
      " 'O_Rec1_Reg_Szn_Avg_Away_Win_Margin' , \n",
      " 'O_Rec1_Reg_Szn_Away_Losses' , \n",
      " 'O_Rec1_Reg_Szn_Avg_Away_Loss_Margin' , \n",
      " 'O_Rec2_Reg_Szn_Wins' , \n",
      " 'O_Rec2_Reg_Szn_Avg_Win_Margin' , \n",
      " 'O_Rec2_Reg_Szn_Losses' , \n",
      " 'O_Rec2_Reg_Szn_Avg_Loss_Margin' , \n",
      " 'O_Rec2_Reg_Szn_Home_Wins' , \n",
      " 'O_Rec2_Reg_Szn_Avg_Home_Win_Margin' , \n",
      " 'O_Rec2_Reg_Szn_Home_Losses' , \n",
      " 'O_Rec2_Reg_Szn_Avg_Home_Loss_Margin' , \n",
      " 'O_Rec2_Reg_Szn_Away_Wins' , \n",
      " 'O_Rec2_Reg_Szn_Avg_Away_Win_Margin' , \n",
      " 'O_Rec2_Reg_Szn_Away_Losses' , \n",
      " 'O_Rec2_Reg_Szn_Avg_Away_Loss_Margin' , \n",
      " 'O_Rec3_Reg_Szn_Wins' , \n",
      " 'O_Rec3_Reg_Szn_Avg_Win_Margin' , \n",
      " 'O_Rec3_Reg_Szn_Losses' , \n",
      " 'O_Rec3_Reg_Szn_Avg_Loss_Margin' , \n",
      " 'O_Rec3_Reg_Szn_Home_Wins' , \n",
      " 'O_Rec3_Reg_Szn_Avg_Home_Win_Margin' , \n",
      " 'O_Rec3_Reg_Szn_Home_Losses' , \n",
      " 'O_Rec3_Reg_Szn_Avg_Home_Loss_Margin' , \n",
      " 'O_Rec3_Reg_Szn_Away_Wins' , \n",
      " 'O_Rec3_Reg_Szn_Avg_Away_Win_Margin' , \n",
      " 'O_Rec3_Reg_Szn_Away_Losses' , \n",
      " 'O_Rec3_Reg_Szn_Avg_Away_Loss_Margin' , \n",
      " 'O_Conf_Tourney_Wins' , \n",
      " 'O_Conf_Tourney_Losses' , \n",
      " 'O_ConfID' , \n",
      " 'O_Seed' , \n",
      " 'Team2Score' , \n",
      " 'OO_TeamID' , \n",
      " 'OO_Reg_Szn_Wins' , \n",
      " 'OO_Reg_Szn_Losses' , \n",
      " 'OO_Reg_Szn_Home_Wins' , \n",
      " 'OO_Reg_Szn_Home_Losses' , \n",
      " 'OO_Reg_Szn_Away_Wins' , \n",
      " 'OO_Reg_Szn_Away_Losses' , \n",
      " 'OO_Reg_Szn_Neutral_Wins' , \n",
      " 'OO_Reg_Szn_Neutral_Losses' , \n",
      " 'OO_Rec1_Reg_Szn_Wins' , \n",
      " 'OO_Rec1_Reg_Szn_Avg_Win_Margin' , \n",
      " 'OO_Rec1_Reg_Szn_Losses' , \n",
      " 'OO_Rec1_Reg_Szn_Avg_Loss_Margin' , \n",
      " 'OO_Rec1_Reg_Szn_Home_Wins' , \n",
      " 'OO_Rec1_Reg_Szn_Avg_Home_Win_Margin' , \n",
      " 'OO_Rec1_Reg_Szn_Home_Losses' , \n",
      " 'OO_Rec1_Reg_Szn_Avg_Home_Loss_Margin' , \n",
      " 'OO_Rec1_Reg_Szn_Away_Wins' , \n",
      " 'OO_Rec1_Reg_Szn_Avg_Away_Win_Margin' , \n",
      " 'OO_Rec1_Reg_Szn_Away_Losses' , \n",
      " 'OO_Rec1_Reg_Szn_Avg_Away_Loss_Margin' , \n",
      " 'OO_Rec2_Reg_Szn_Wins' , \n",
      " 'OO_Rec2_Reg_Szn_Avg_Win_Margin' , \n",
      " 'OO_Rec2_Reg_Szn_Losses' , \n",
      " 'OO_Rec2_Reg_Szn_Avg_Loss_Margin' , \n",
      " 'OO_Rec2_Reg_Szn_Home_Wins' , \n",
      " 'OO_Rec2_Reg_Szn_Avg_Home_Win_Margin' , \n",
      " 'OO_Rec2_Reg_Szn_Home_Losses' , \n",
      " 'OO_Rec2_Reg_Szn_Avg_Home_Loss_Margin' , \n",
      " 'OO_Rec2_Reg_Szn_Away_Wins' , \n",
      " 'OO_Rec2_Reg_Szn_Avg_Away_Win_Margin' , \n",
      " 'OO_Rec2_Reg_Szn_Away_Losses' , \n",
      " 'OO_Rec2_Reg_Szn_Avg_Away_Loss_Margin' , \n",
      " 'OO_Rec3_Reg_Szn_Wins' , \n",
      " 'OO_Rec3_Reg_Szn_Avg_Win_Margin' , \n",
      " 'OO_Rec3_Reg_Szn_Losses' , \n",
      " 'OO_Rec3_Reg_Szn_Avg_Loss_Margin' , \n",
      " 'OO_Rec3_Reg_Szn_Home_Wins' , \n",
      " 'OO_Rec3_Reg_Szn_Avg_Home_Win_Margin' , \n",
      " 'OO_Rec3_Reg_Szn_Home_Losses' , \n",
      " 'OO_Rec3_Reg_Szn_Avg_Home_Loss_Margin' , \n",
      " 'OO_Rec3_Reg_Szn_Away_Wins' , \n",
      " 'OO_Rec3_Reg_Szn_Avg_Away_Win_Margin' , \n",
      " 'OO_Rec3_Reg_Szn_Away_Losses' , \n",
      " 'OO_Rec3_Reg_Szn_Avg_Away_Loss_Margin' , \n",
      " 'OO_Conf_Tourney_Wins' , \n",
      " 'OO_Conf_Tourney_Losses' , \n",
      " 'OO_ConfID' , \n",
      " 'OO_Seed' , \n",
      " 'Team1Avg_Rank' , \n",
      " 'Team1Max_Rank' , \n",
      " 'Team1Last_Rank' , \n",
      " 'Team2Avg_Rank' , \n",
      " 'Team2Max_Rank' , \n",
      " 'Team2Last_Rank' , \n"
     ]
    }
   ],
   "source": [
    "for i in df_past_tourneys.columns:\n",
    "    print(\" '\"+str(i)+ \"'\", ', ')"
   ]
  },
  {
   "cell_type": "code",
   "execution_count": 18,
   "id": "0061838c",
   "metadata": {},
   "outputs": [],
   "source": [
    "#AS of now, every team that's won corresponds to TeamID1\n",
    "#To account for this we'll try and make half the teams that win \n",
    "#correspond to TeamID1 and the other half correspond to TeamID2\n",
    "\n",
    "#get some random samples\n",
    "df_temp = df_past_tourneys.sample(n = 560)"
   ]
  },
  {
   "cell_type": "code",
   "execution_count": 19,
   "id": "702e15a4",
   "metadata": {},
   "outputs": [],
   "source": [
    "df_temp2 = df_past_tourneys[ ~df_past_tourneys.index.isin( df_temp.index ) ]"
   ]
  },
  {
   "cell_type": "code",
   "execution_count": 20,
   "id": "703b9f1d",
   "metadata": {},
   "outputs": [],
   "source": [
    "#create copy of df_temp2\n",
    "df_temp2_copy = df_temp2"
   ]
  },
  {
   "cell_type": "code",
   "execution_count": 21,
   "id": "5015c6bf",
   "metadata": {},
   "outputs": [],
   "source": [
    "#Flip Flop Team 1 and Team 2 Information\n",
    "df_temp2 = df_temp2_copy[['Final_Data_M_Season', \n",
    " 'DayNum', 'Team2Score' , \n",
    " 'OO_TeamID' , \n",
    " 'OO_Reg_Szn_Wins' , \n",
    " 'OO_Reg_Szn_Losses' , \n",
    " 'OO_Reg_Szn_Home_Wins' , \n",
    " 'OO_Reg_Szn_Home_Losses' , \n",
    " 'OO_Reg_Szn_Away_Wins' , \n",
    " 'OO_Reg_Szn_Away_Losses' , \n",
    " 'OO_Reg_Szn_Neutral_Wins' , \n",
    " 'OO_Reg_Szn_Neutral_Losses' , \n",
    " 'OO_Rec1_Reg_Szn_Wins' , \n",
    " 'OO_Rec1_Reg_Szn_Avg_Win_Margin' , \n",
    " 'OO_Rec1_Reg_Szn_Losses' , \n",
    " 'OO_Rec1_Reg_Szn_Avg_Loss_Margin' , \n",
    " 'OO_Rec1_Reg_Szn_Home_Wins' , \n",
    " 'OO_Rec1_Reg_Szn_Avg_Home_Win_Margin' , \n",
    " 'OO_Rec1_Reg_Szn_Home_Losses' , \n",
    " 'OO_Rec1_Reg_Szn_Avg_Home_Loss_Margin' , \n",
    " 'OO_Rec1_Reg_Szn_Away_Wins' , \n",
    " 'OO_Rec1_Reg_Szn_Avg_Away_Win_Margin' , \n",
    " 'OO_Rec1_Reg_Szn_Away_Losses' , \n",
    " 'OO_Rec1_Reg_Szn_Avg_Away_Loss_Margin' , \n",
    " 'OO_Rec2_Reg_Szn_Wins' , \n",
    " 'OO_Rec2_Reg_Szn_Avg_Win_Margin' , \n",
    " 'OO_Rec2_Reg_Szn_Losses' , \n",
    " 'OO_Rec2_Reg_Szn_Avg_Loss_Margin' , \n",
    " 'OO_Rec2_Reg_Szn_Home_Wins' , \n",
    " 'OO_Rec2_Reg_Szn_Avg_Home_Win_Margin' , \n",
    " 'OO_Rec2_Reg_Szn_Home_Losses' , \n",
    " 'OO_Rec2_Reg_Szn_Avg_Home_Loss_Margin' , \n",
    " 'OO_Rec2_Reg_Szn_Away_Wins' , \n",
    " 'OO_Rec2_Reg_Szn_Avg_Away_Win_Margin' , \n",
    " 'OO_Rec2_Reg_Szn_Away_Losses' , \n",
    " 'OO_Rec2_Reg_Szn_Avg_Away_Loss_Margin' , \n",
    " 'OO_Rec3_Reg_Szn_Wins' , \n",
    " 'OO_Rec3_Reg_Szn_Avg_Win_Margin' , \n",
    " 'OO_Rec3_Reg_Szn_Losses' , \n",
    " 'OO_Rec3_Reg_Szn_Avg_Loss_Margin' , \n",
    " 'OO_Rec3_Reg_Szn_Home_Wins' , \n",
    " 'OO_Rec3_Reg_Szn_Avg_Home_Win_Margin' , \n",
    " 'OO_Rec3_Reg_Szn_Home_Losses' , \n",
    " 'OO_Rec3_Reg_Szn_Avg_Home_Loss_Margin' , \n",
    " 'OO_Rec3_Reg_Szn_Away_Wins' , \n",
    " 'OO_Rec3_Reg_Szn_Avg_Away_Win_Margin' , \n",
    " 'OO_Rec3_Reg_Szn_Away_Losses' , \n",
    " 'OO_Rec3_Reg_Szn_Avg_Away_Loss_Margin' , \n",
    " 'OO_Conf_Tourney_Wins' , \n",
    " 'OO_Conf_Tourney_Losses' , \n",
    " 'OO_ConfID' , \n",
    " 'OO_Seed' , 'Team1Score' , \n",
    " 'O_TeamID' , \n",
    " 'O_Reg_Szn_Wins' , \n",
    " 'O_Reg_Szn_Losses' , \n",
    " 'O_Reg_Szn_Home_Wins' , \n",
    " 'O_Reg_Szn_Home_Losses' , \n",
    " 'O_Reg_Szn_Away_Wins' , \n",
    " 'O_Reg_Szn_Away_Losses' , \n",
    " 'O_Reg_Szn_Neutral_Wins' , \n",
    " 'O_Reg_Szn_Neutral_Losses' , \n",
    " 'O_Rec1_Reg_Szn_Wins' , \n",
    " 'O_Rec1_Reg_Szn_Avg_Win_Margin' , \n",
    " 'O_Rec1_Reg_Szn_Losses' , \n",
    " 'O_Rec1_Reg_Szn_Avg_Loss_Margin' , \n",
    " 'O_Rec1_Reg_Szn_Home_Wins' , \n",
    " 'O_Rec1_Reg_Szn_Avg_Home_Win_Margin' , \n",
    " 'O_Rec1_Reg_Szn_Home_Losses' , \n",
    " 'O_Rec1_Reg_Szn_Avg_Home_Loss_Margin' , \n",
    " 'O_Rec1_Reg_Szn_Away_Wins' , \n",
    " 'O_Rec1_Reg_Szn_Avg_Away_Win_Margin' , \n",
    " 'O_Rec1_Reg_Szn_Away_Losses' , \n",
    " 'O_Rec1_Reg_Szn_Avg_Away_Loss_Margin' , \n",
    " 'O_Rec2_Reg_Szn_Wins' , \n",
    " 'O_Rec2_Reg_Szn_Avg_Win_Margin' , \n",
    " 'O_Rec2_Reg_Szn_Losses' , \n",
    " 'O_Rec2_Reg_Szn_Avg_Loss_Margin' , \n",
    " 'O_Rec2_Reg_Szn_Home_Wins' , \n",
    " 'O_Rec2_Reg_Szn_Avg_Home_Win_Margin' , \n",
    " 'O_Rec2_Reg_Szn_Home_Losses' , \n",
    " 'O_Rec2_Reg_Szn_Avg_Home_Loss_Margin' , \n",
    " 'O_Rec2_Reg_Szn_Away_Wins' , \n",
    " 'O_Rec2_Reg_Szn_Avg_Away_Win_Margin' , \n",
    " 'O_Rec2_Reg_Szn_Away_Losses' , \n",
    " 'O_Rec2_Reg_Szn_Avg_Away_Loss_Margin' , \n",
    " 'O_Rec3_Reg_Szn_Wins' , \n",
    " 'O_Rec3_Reg_Szn_Avg_Win_Margin' , \n",
    " 'O_Rec3_Reg_Szn_Losses' , \n",
    " 'O_Rec3_Reg_Szn_Avg_Loss_Margin' , \n",
    " 'O_Rec3_Reg_Szn_Home_Wins' , \n",
    " 'O_Rec3_Reg_Szn_Avg_Home_Win_Margin' , \n",
    " 'O_Rec3_Reg_Szn_Home_Losses' , \n",
    " 'O_Rec3_Reg_Szn_Avg_Home_Loss_Margin' , \n",
    " 'O_Rec3_Reg_Szn_Away_Wins' , \n",
    " 'O_Rec3_Reg_Szn_Avg_Away_Win_Margin' , \n",
    " 'O_Rec3_Reg_Szn_Away_Losses' , \n",
    " 'O_Rec3_Reg_Szn_Avg_Away_Loss_Margin' , \n",
    " 'O_Conf_Tourney_Wins' , \n",
    " 'O_Conf_Tourney_Losses' , \n",
    " 'O_ConfID' , \n",
    " 'O_Seed',\n",
    " 'Team2Avg_Rank', \n",
    " 'Team2Max_Rank', \n",
    " 'Team2Last_Rank',\n",
    " 'Team1Avg_Rank' , \n",
    " 'Team1Max_Rank' , \n",
    " 'Team1Last_Rank']]"
   ]
  },
  {
   "cell_type": "code",
   "execution_count": 22,
   "id": "eb8b48b1",
   "metadata": {},
   "outputs": [],
   "source": [
    "df_temp2.columns = df_past_tourneys.columns"
   ]
  },
  {
   "cell_type": "code",
   "execution_count": 24,
   "id": "c7ed3b14",
   "metadata": {},
   "outputs": [
    {
     "name": "stderr",
     "output_type": "stream",
     "text": [
      "C:\\Users\\ejgal\\AppData\\Local\\Temp/ipykernel_27512/1172329566.py:1: SettingWithCopyWarning: \n",
      "A value is trying to be set on a copy of a slice from a DataFrame.\n",
      "Try using .loc[row_indexer,col_indexer] = value instead\n",
      "\n",
      "See the caveats in the documentation: https://pandas.pydata.org/pandas-docs/stable/user_guide/indexing.html#returning-a-view-versus-a-copy\n",
      "  df_temp2['Winner_Index'] = 0\n"
     ]
    }
   ],
   "source": [
    "df_temp2['Winner_Index'] = 0\n",
    "df_temp['Winner_Index'] = 1"
   ]
  },
  {
   "cell_type": "code",
   "execution_count": 25,
   "id": "b153877e",
   "metadata": {},
   "outputs": [],
   "source": [
    "df = pd.concat([df_temp, df_temp2])"
   ]
  },
  {
   "cell_type": "code",
   "execution_count": 26,
   "id": "5ca35308",
   "metadata": {},
   "outputs": [],
   "source": [
    "df = df.sample(frac = 1)"
   ]
  },
  {
   "cell_type": "code",
   "execution_count": 27,
   "id": "6b47cdde",
   "metadata": {},
   "outputs": [
    {
     "data": {
      "text/plain": [
       "Index(['Final_Data_M_Season', 'DayNum', 'Team1Score', 'O_TeamID',\n",
       "       'O_Reg_Szn_Wins', 'O_Reg_Szn_Losses', 'O_Reg_Szn_Home_Wins',\n",
       "       'O_Reg_Szn_Home_Losses', 'O_Reg_Szn_Away_Wins', 'O_Reg_Szn_Away_Losses',\n",
       "       ...\n",
       "       'OO_Conf_Tourney_Losses', 'OO_ConfID', 'OO_Seed', 'Team1Avg_Rank',\n",
       "       'Team1Max_Rank', 'Team1Last_Rank', 'Team2Avg_Rank', 'Team2Max_Rank',\n",
       "       'Team2Last_Rank', 'Winner_Index'],\n",
       "      dtype='object', length=109)"
      ]
     },
     "execution_count": 27,
     "metadata": {},
     "output_type": "execute_result"
    }
   ],
   "source": [
    "df.columns"
   ]
  },
  {
   "cell_type": "code",
   "execution_count": 28,
   "id": "13dff15d",
   "metadata": {},
   "outputs": [],
   "source": [
    "del df['Team1Score']\n",
    "del df['Team2Score']"
   ]
  },
  {
   "cell_type": "code",
   "execution_count": 29,
   "id": "7942cdf8",
   "metadata": {},
   "outputs": [],
   "source": [
    "#Standardize Data\n",
    "from sklearn.preprocessing import StandardScaler\n",
    "#df[['RSW2', 'RSL2', 'R1Wins2', 'R1Losses2', 'R2Wins2', 'R2Losses2', 'R3Wins2', 'R3Losses2', 'R4Wins2', 'R4Losses2', 'R5Wins2', 'R5Losses2', 'R6Wins2', 'R6Losses2', 'R7Wins2', 'R7Losses2', 'NumOT', 'RSW1', 'RSL1', 'R1Wins1', 'R1Losses1', 'R2Wins1', 'R2Losses1', 'R3Wins1', 'R3Losses1', 'R4Wins1', 'R4Losses1', 'R5Wins1', 'R5Losses1', 'R6Wins1', 'R6Losses1', 'R7Wins1', 'R7Losses1']] = StandardScaler().fit_transform(df[['RSW2', 'RSL2', 'R1Wins2', 'R1Losses2', 'R2Wins2', 'R2Losses2', 'R3Wins2', 'R3Losses2', 'R4Wins2', 'R4Losses2', 'R5Wins2', 'R5Losses2', 'R6Wins2', 'R6Losses2', 'R7Wins2', 'R7Losses2', 'NumOT', 'RSW1', 'RSL1', 'R1Wins1', 'R1Losses1', 'R2Wins1', 'R2Losses1', 'R3Wins1', 'R3Losses1', 'R4Wins1', 'R4Losses1', 'R5Wins1', 'R5Losses1', 'R6Wins1', 'R6Losses1', 'R7Wins1', 'R7Losses1']])\n",
    "#df = StandardScaler().fit_transform(df)"
   ]
  },
  {
   "cell_type": "markdown",
   "id": "b8265f3a",
   "metadata": {},
   "source": [
    "Convert region from letter to number"
   ]
  },
  {
   "cell_type": "code",
   "execution_count": 30,
   "id": "a27c87ff",
   "metadata": {},
   "outputs": [
    {
     "name": "stderr",
     "output_type": "stream",
     "text": [
      "C:\\Users\\ejgal\\AppData\\Local\\Temp/ipykernel_27512/244350211.py:10: SettingWithCopyWarning: \n",
      "A value is trying to be set on a copy of a slice from a DataFrame\n",
      "\n",
      "See the caveats in the documentation: https://pandas.pydata.org/pandas-docs/stable/user_guide/indexing.html#returning-a-view-versus-a-copy\n",
      "  df['Team1Region'][i] = 2\n",
      "C:\\Users\\ejgal\\AppData\\Local\\Temp/ipykernel_27512/244350211.py:12: SettingWithCopyWarning: \n",
      "A value is trying to be set on a copy of a slice from a DataFrame\n",
      "\n",
      "See the caveats in the documentation: https://pandas.pydata.org/pandas-docs/stable/user_guide/indexing.html#returning-a-view-versus-a-copy\n",
      "  df['Team1Region'][i] = 3\n",
      "C:\\Users\\ejgal\\AppData\\Local\\Temp/ipykernel_27512/244350211.py:6: SettingWithCopyWarning: \n",
      "A value is trying to be set on a copy of a slice from a DataFrame\n",
      "\n",
      "See the caveats in the documentation: https://pandas.pydata.org/pandas-docs/stable/user_guide/indexing.html#returning-a-view-versus-a-copy\n",
      "  df['Team1Region'][i] = 0\n",
      "C:\\Users\\ejgal\\AppData\\Local\\Temp/ipykernel_27512/244350211.py:8: SettingWithCopyWarning: \n",
      "A value is trying to be set on a copy of a slice from a DataFrame\n",
      "\n",
      "See the caveats in the documentation: https://pandas.pydata.org/pandas-docs/stable/user_guide/indexing.html#returning-a-view-versus-a-copy\n",
      "  df['Team1Region'][i] = 1\n",
      "C:\\Users\\ejgal\\AppData\\Local\\Temp/ipykernel_27512/244350211.py:20: SettingWithCopyWarning: \n",
      "A value is trying to be set on a copy of a slice from a DataFrame\n",
      "\n",
      "See the caveats in the documentation: https://pandas.pydata.org/pandas-docs/stable/user_guide/indexing.html#returning-a-view-versus-a-copy\n",
      "  df['Team2Region'][i] = 2\n",
      "C:\\Users\\ejgal\\AppData\\Local\\Temp/ipykernel_27512/244350211.py:22: SettingWithCopyWarning: \n",
      "A value is trying to be set on a copy of a slice from a DataFrame\n",
      "\n",
      "See the caveats in the documentation: https://pandas.pydata.org/pandas-docs/stable/user_guide/indexing.html#returning-a-view-versus-a-copy\n",
      "  df['Team2Region'][i] = 3\n",
      "C:\\Users\\ejgal\\AppData\\Local\\Temp/ipykernel_27512/244350211.py:16: SettingWithCopyWarning: \n",
      "A value is trying to be set on a copy of a slice from a DataFrame\n",
      "\n",
      "See the caveats in the documentation: https://pandas.pydata.org/pandas-docs/stable/user_guide/indexing.html#returning-a-view-versus-a-copy\n",
      "  df['Team2Region'][i] = 0\n",
      "C:\\Users\\ejgal\\AppData\\Local\\Temp/ipykernel_27512/244350211.py:18: SettingWithCopyWarning: \n",
      "A value is trying to be set on a copy of a slice from a DataFrame\n",
      "\n",
      "See the caveats in the documentation: https://pandas.pydata.org/pandas-docs/stable/user_guide/indexing.html#returning-a-view-versus-a-copy\n",
      "  df['Team2Region'][i] = 1\n"
     ]
    }
   ],
   "source": [
    "df['Team1Region'] = 5\n",
    "df['Team2Region'] = 5\n",
    "\n",
    "for i in range(len(df)):\n",
    "    if df['O_Seed'][i][0] == 'W':\n",
    "        df['Team1Region'][i] = 0\n",
    "    elif df['O_Seed'][i][0] == 'X':\n",
    "        df['Team1Region'][i] = 1\n",
    "    elif df['O_Seed'][i][0] == 'Y':\n",
    "        df['Team1Region'][i] = 2\n",
    "    else:\n",
    "        df['Team1Region'][i] = 3\n",
    "        \n",
    "for i in range(len(df)):\n",
    "    if df['OO_Seed'][i][0] == 'W':\n",
    "        df['Team2Region'][i] = 0\n",
    "    elif df['OO_Seed'][i][0] == 'X':\n",
    "        df['Team2Region'][i] = 1\n",
    "    elif df['OO_Seed'][i][0] == 'Y':\n",
    "        df['Team2Region'][i] = 2\n",
    "    else:\n",
    "        df['Team2Region'][i] = 3"
   ]
  },
  {
   "cell_type": "code",
   "execution_count": 31,
   "id": "ead087e5",
   "metadata": {},
   "outputs": [
    {
     "name": "stderr",
     "output_type": "stream",
     "text": [
      "C:\\Users\\ejgal\\AppData\\Local\\Temp/ipykernel_27512/3335909771.py:2: SettingWithCopyWarning: \n",
      "A value is trying to be set on a copy of a slice from a DataFrame\n",
      "\n",
      "See the caveats in the documentation: https://pandas.pydata.org/pandas-docs/stable/user_guide/indexing.html#returning-a-view-versus-a-copy\n",
      "  df['O_Seed'][i] = df['O_Seed'][i][1] + df['O_Seed'][i][2]\n",
      "C:\\Users\\ejgal\\AppData\\Local\\Temp/ipykernel_27512/3335909771.py:3: SettingWithCopyWarning: \n",
      "A value is trying to be set on a copy of a slice from a DataFrame\n",
      "\n",
      "See the caveats in the documentation: https://pandas.pydata.org/pandas-docs/stable/user_guide/indexing.html#returning-a-view-versus-a-copy\n",
      "  df['OO_Seed'][i] = df['OO_Seed'][i][1] + df['OO_Seed'][i][2]\n"
     ]
    }
   ],
   "source": [
    "for i in range(len(df)):\n",
    "    df['O_Seed'][i] = df['O_Seed'][i][1] + df['O_Seed'][i][2]\n",
    "    df['OO_Seed'][i] = df['OO_Seed'][i][1] + df['OO_Seed'][i][2]"
   ]
  },
  {
   "cell_type": "code",
   "execution_count": 32,
   "id": "9e589ee1",
   "metadata": {},
   "outputs": [
    {
     "data": {
      "text/plain": [
       "'02'"
      ]
     },
     "execution_count": 32,
     "metadata": {},
     "output_type": "execute_result"
    }
   ],
   "source": [
    "df['O_Seed'][1]"
   ]
  },
  {
   "cell_type": "code",
   "execution_count": 33,
   "id": "496866e8",
   "metadata": {},
   "outputs": [],
   "source": [
    "df['O_Seed'] = df['O_Seed'].astype('int64')\n",
    "df['OO_Seed'] = df['OO_Seed'].astype('int64')"
   ]
  },
  {
   "cell_type": "code",
   "execution_count": 34,
   "id": "ae0fa723",
   "metadata": {},
   "outputs": [
    {
     "data": {
      "text/plain": [
       "13"
      ]
     },
     "execution_count": 34,
     "metadata": {},
     "output_type": "execute_result"
    }
   ],
   "source": [
    "df['O_ConfID'][176]"
   ]
  },
  {
   "cell_type": "markdown",
   "id": "9bcca92c",
   "metadata": {},
   "source": [
    "Trying to see if being from a 'big' conference (BigTen, ACC, SEC, etc) matters"
   ]
  },
  {
   "cell_type": "code",
   "execution_count": 35,
   "id": "2578fe70",
   "metadata": {},
   "outputs": [
    {
     "name": "stderr",
     "output_type": "stream",
     "text": [
      "C:\\Users\\ejgal\\AppData\\Local\\Temp/ipykernel_27512/2576172499.py:5: SettingWithCopyWarning: \n",
      "A value is trying to be set on a copy of a slice from a DataFrame\n",
      "\n",
      "See the caveats in the documentation: https://pandas.pydata.org/pandas-docs/stable/user_guide/indexing.html#returning-a-view-versus-a-copy\n",
      "  df['BigConferenceTeam1'][i] = 1\n",
      "C:\\Users\\ejgal\\AppData\\Local\\Temp/ipykernel_27512/2576172499.py:7: SettingWithCopyWarning: \n",
      "A value is trying to be set on a copy of a slice from a DataFrame\n",
      "\n",
      "See the caveats in the documentation: https://pandas.pydata.org/pandas-docs/stable/user_guide/indexing.html#returning-a-view-versus-a-copy\n",
      "  df['BigConferenceTeam2'][i] = 1\n"
     ]
    }
   ],
   "source": [
    "df['BigConferenceTeam1'] = 0\n",
    "df['BigConferenceTeam2'] = 0\n",
    "for i in range(len(df)):\n",
    "    if df['O_ConfID'][i] == 4 or df['O_ConfID'][i] == 8 or df['O_ConfID'][i] == 12 or df['O_ConfID'][i] == 13 or df['O_ConfID'][i] == 39 or df['O_ConfID'][i] == 40 or df['O_ConfID'][i] == 43:\n",
    "        df['BigConferenceTeam1'][i] = 1\n",
    "    if df['OO_ConfID'][i] == 4 or df['OO_ConfID'][i] == 8 or df['OO_ConfID'][i] == 12 or df['OO_ConfID'][i] == 13 or df['OO_ConfID'][i] == 39 or df['OO_ConfID'][i] == 40 or df['OO_ConfID'][i] == 43:\n",
    "        df['BigConferenceTeam2'][i] = 1\n",
    "        "
   ]
  },
  {
   "cell_type": "code",
   "execution_count": 36,
   "id": "62234abb",
   "metadata": {},
   "outputs": [
    {
     "data": {
      "text/plain": [
       "0"
      ]
     },
     "execution_count": 36,
     "metadata": {},
     "output_type": "execute_result"
    }
   ],
   "source": [
    "df['Team1Region'][5]"
   ]
  },
  {
   "cell_type": "markdown",
   "id": "cba189fc",
   "metadata": {},
   "source": [
    "Get the round that everyone would play each other in"
   ]
  },
  {
   "cell_type": "code",
   "execution_count": 37,
   "id": "0d7e8f8e",
   "metadata": {},
   "outputs": [],
   "source": [
    "#Note: In actual competiion, I might have gotten rid of some columns in this notebook for mens\n",
    "#and/or women's competitions (conferences, seeds, rounds, bigconferences, etc.) but general method is same"
   ]
  },
  {
   "cell_type": "code",
   "execution_count": 39,
   "id": "438ce733",
   "metadata": {},
   "outputs": [
    {
     "name": "stderr",
     "output_type": "stream",
     "text": [
      "C:\\Users\\ejgal\\AppData\\Local\\Temp/ipykernel_27512/2187156164.py:18: SettingWithCopyWarning: \n",
      "A value is trying to be set on a copy of a slice from a DataFrame\n",
      "\n",
      "See the caveats in the documentation: https://pandas.pydata.org/pandas-docs/stable/user_guide/indexing.html#returning-a-view-versus-a-copy\n",
      "  df['Round'][i] = 1\n",
      "C:\\Users\\ejgal\\AppData\\Local\\Temp/ipykernel_27512/2187156164.py:79: SettingWithCopyWarning: \n",
      "A value is trying to be set on a copy of a slice from a DataFrame\n",
      "\n",
      "See the caveats in the documentation: https://pandas.pydata.org/pandas-docs/stable/user_guide/indexing.html#returning-a-view-versus-a-copy\n",
      "  df['Round'][i] = 4\n",
      "C:\\Users\\ejgal\\AppData\\Local\\Temp/ipykernel_27512/2187156164.py:39: SettingWithCopyWarning: \n",
      "A value is trying to be set on a copy of a slice from a DataFrame\n",
      "\n",
      "See the caveats in the documentation: https://pandas.pydata.org/pandas-docs/stable/user_guide/indexing.html#returning-a-view-versus-a-copy\n",
      "  df['Round'][i] = 2\n",
      "C:\\Users\\ejgal\\AppData\\Local\\Temp/ipykernel_27512/2187156164.py:75: SettingWithCopyWarning: \n",
      "A value is trying to be set on a copy of a slice from a DataFrame\n",
      "\n",
      "See the caveats in the documentation: https://pandas.pydata.org/pandas-docs/stable/user_guide/indexing.html#returning-a-view-versus-a-copy\n",
      "  df['Round'][i] = 3\n",
      "C:\\Users\\ejgal\\AppData\\Local\\Temp/ipykernel_27512/2187156164.py:85: SettingWithCopyWarning: \n",
      "A value is trying to be set on a copy of a slice from a DataFrame\n",
      "\n",
      "See the caveats in the documentation: https://pandas.pydata.org/pandas-docs/stable/user_guide/indexing.html#returning-a-view-versus-a-copy\n",
      "  df['Round'][i] = 5\n",
      "C:\\Users\\ejgal\\AppData\\Local\\Temp/ipykernel_27512/2187156164.py:89: SettingWithCopyWarning: \n",
      "A value is trying to be set on a copy of a slice from a DataFrame\n",
      "\n",
      "See the caveats in the documentation: https://pandas.pydata.org/pandas-docs/stable/user_guide/indexing.html#returning-a-view-versus-a-copy\n",
      "  df['Round'][i] = 6\n"
     ]
    }
   ],
   "source": [
    "#set to Play in games initially\n",
    "df['Round'] = 0\n",
    "\n",
    "for i in range(len(df)):\n",
    "    #print(df['O_Seed'][i], \" \", df['OO_Seed'][i])\n",
    "    #if they're in the same region \n",
    "    if df['Team1Region'][i] == df['Team2Region'][i]:\n",
    "        #first round (Round of 64)\n",
    "        if (((df['O_Seed'][i] == 1 and df['OO_Seed'][i] == 16) or (df['O_Seed'][i] == 16 and df['OO_Seed'][i] == 1)) or \\\n",
    "            ((df['O_Seed'][i] == 2 and df['OO_Seed'][i] == 15) or (df['O_Seed'][i] == 15 and df['OO_Seed'][i] == 2)) or \\\n",
    "            ((df['O_Seed'][i] == 3 and df['OO_Seed'][i] == 14) or (df['O_Seed'][i] == 14 and df['OO_Seed'][i] == 3)) or \\\n",
    "            ((df['O_Seed'][i] == 4 and df['OO_Seed'][i] == 13) or (df['O_Seed'][i] == 13 and df['OO_Seed'][i] == 4)) or \\\n",
    "            ((df['O_Seed'][i] == 5 and df['OO_Seed'][i] == 12) or (df['O_Seed'][i] == 12 and df['OO_Seed'][i] == 5)) or \\\n",
    "            ((df['O_Seed'][i] == 6 and df['OO_Seed'][i] == 11) or (df['O_Seed'][i] == 11 and df['OO_Seed'][i] == 6)) or \\\n",
    "            ((df['O_Seed'][i] == 7 and df['OO_Seed'][i] == 10) or (df['O_Seed'][i] == 10 and df['OO_Seed'][i] == 7)) or \\\n",
    "            ((df['O_Seed'][i] == 8 and df['OO_Seed'][i] == 9) or (df['O_Seed'][i] == 9 and df['OO_Seed'][i] == 8))):\n",
    "            \n",
    "            df['Round'][i] = 1\n",
    "            \n",
    "            \n",
    "        #second round (Round of 32)\n",
    "        elif ((df['O_Seed'][i] == 1 and df['OO_Seed'][i] == 8) or (df['O_Seed'][i] == 8 and df['OO_Seed'][i] == 1)) or \\\n",
    "            ((df['O_Seed'][i] == 1 and df['OO_Seed'][i] == 9) or (df['O_Seed'][i] == 9 and df['OO_Seed'][i] == 1)) or \\\n",
    "            ((df['O_Seed'][i] == 16 and df['OO_Seed'][i] == 8) or (df['O_Seed'][i] == 8 and df['OO_Seed'][i] == 16)) or \\\n",
    "            ((df['O_Seed'][i] == 16 and df['OO_Seed'][i] == 9) or (df['O_Seed'][i] == 9 and df['OO_Seed'][i] == 16)) or \\\n",
    "            ((df['O_Seed'][i] == 5 and df['OO_Seed'][i] == 4) or (df['O_Seed'][i] == 4 and df['OO_Seed'][i] == 5)) or \\\n",
    "            ((df['O_Seed'][i] == 5 and df['OO_Seed'][i] == 13) or (df['O_Seed'][i] == 13 and df['OO_Seed'][i] == 5)) or \\\n",
    "            ((df['O_Seed'][i] == 12 and df['OO_Seed'][i] == 4) or (df['O_Seed'][i] == 4 and df['OO_Seed'][i] == 12)) or \\\n",
    "            ((df['O_Seed'][i] == 12 and df['OO_Seed'][i] == 13) or (df['O_Seed'][i] == 13 and df['OO_Seed'][i] == 12)) or \\\n",
    "            ((df['O_Seed'][i] == 6 and df['OO_Seed'][i] == 3) or (df['O_Seed'][i] == 3 and df['OO_Seed'][i] == 6)) or \\\n",
    "            ((df['O_Seed'][i] == 6 and df['OO_Seed'][i] == 14) or (df['O_Seed'][i] == 14 and df['OO_Seed'][i] == 6)) or \\\n",
    "            ((df['O_Seed'][i] == 11 and df['OO_Seed'][i] == 3) or (df['O_Seed'][i] == 3 and df['OO_Seed'][i] == 11)) or \\\n",
    "            ((df['O_Seed'][i] == 11 and df['OO_Seed'][i] == 14) or (df['O_Seed'][i] == 14 and df['OO_Seed'][i] == 11)) or \\\n",
    "            ((df['O_Seed'][i] == 7 and df['OO_Seed'][i] == 2) or (df['O_Seed'][i] == 2 and df['OO_Seed'][i] == 7)) or \\\n",
    "            ((df['O_Seed'][i] == 7 and df['OO_Seed'][i] == 15) or (df['O_Seed'][i] == 15 and df['OO_Seed'][i] == 7)) or \\\n",
    "            ((df['O_Seed'][i] == 10 and df['OO_Seed'][i] == 2) or (df['O_Seed'][i] == 2 and df['OO_Seed'][i] == 10)) or \\\n",
    "            ((df['O_Seed'][i] == 10 and df['OO_Seed'][i] == 15) or (df['O_Seed'][i] == 15 and df['OO_Seed'][i] == 10)):\n",
    "            \n",
    "            df['Round'][i] = 2\n",
    "            \n",
    "        #Third Round (Sweet Sixteen)\n",
    "        elif ((df['O_Seed'][i] == 1 and df['OO_Seed'][i] == 5) or (df['O_Seed'][i] == 5 and df['OO_Seed'][i] == 1)) or \\\n",
    "            ((df['O_Seed'][i] == 1 and df['OO_Seed'][i] == 12) or (df['O_Seed'][i] == 12 and df['OO_Seed'][i] == 1)) or \\\n",
    "            ((df['O_Seed'][i] == 1 and df['OO_Seed'][i] == 4) or (df['O_Seed'][i] == 4 and df['OO_Seed'][i] == 1)) or \\\n",
    "            ((df['O_Seed'][i] == 1 and df['OO_Seed'][i] == 13) or (df['O_Seed'][i] == 13 and df['OO_Seed'][i] == 1)) or \\\n",
    "            ((df['O_Seed'][i] == 16 and df['OO_Seed'][i] == 5) or (df['O_Seed'][i] == 5 and df['OO_Seed'][i] == 16)) or \\\n",
    "            ((df['O_Seed'][i] == 16 and df['OO_Seed'][i] == 12) or (df['O_Seed'][i] == 12 and df['OO_Seed'][i] == 16)) or \\\n",
    "            ((df['O_Seed'][i] == 16 and df['OO_Seed'][i] == 4) or (df['O_Seed'][i] == 4 and df['OO_Seed'][i] == 16)) or \\\n",
    "            ((df['O_Seed'][i] == 16 and df['OO_Seed'][i] == 13) or (df['O_Seed'][i] == 13 and df['OO_Seed'][i] == 16)) or \\\n",
    "            ((df['O_Seed'][i] == 8 and df['OO_Seed'][i] == 5) or (df['O_Seed'][i] == 5 and df['OO_Seed'][i] == 8)) or \\\n",
    "            ((df['O_Seed'][i] == 8 and df['OO_Seed'][i] == 12) or (df['O_Seed'][i] == 12 and df['OO_Seed'][i] == 8)) or \\\n",
    "            ((df['O_Seed'][i] == 8 and df['OO_Seed'][i] == 4) or (df['O_Seed'][i] == 4 and df['OO_Seed'][i] == 8)) or \\\n",
    "            ((df['O_Seed'][i] == 8 and df['OO_Seed'][i] == 13) or (df['O_Seed'][i] == 13 and df['OO_Seed'][i] == 8)) or \\\n",
    "            ((df['O_Seed'][i] == 9 and df['OO_Seed'][i] == 5) or (df['O_Seed'][i] == 5 and df['OO_Seed'][i] == 9)) or \\\n",
    "            ((df['O_Seed'][i] == 9 and df['OO_Seed'][i] == 12) or (df['O_Seed'][i] == 12 and df['OO_Seed'][i] == 9)) or \\\n",
    "            ((df['O_Seed'][i] == 9 and df['OO_Seed'][i] == 4) or (df['O_Seed'][i] == 4 and df['OO_Seed'][i] == 9)) or \\\n",
    "            ((df['O_Seed'][i] == 9 and df['OO_Seed'][i] == 13) or (df['O_Seed'][i] == 13 and df['OO_Seed'][i] == 9)) or \\\n",
    "            ((df['O_Seed'][i] == 6 and df['OO_Seed'][i] == 7) or (df['O_Seed'][i] == 7 and df['OO_Seed'][i] == 6)) or \\\n",
    "            ((df['O_Seed'][i] == 6 and df['OO_Seed'][i] == 10) or (df['O_Seed'][i] == 10 and df['OO_Seed'][i] == 6)) or \\\n",
    "            ((df['O_Seed'][i] == 6 and df['OO_Seed'][i] == 2) or (df['O_Seed'][i] == 2 and df['OO_Seed'][i] == 6)) or \\\n",
    "            ((df['O_Seed'][i] == 6 and df['OO_Seed'][i] == 15) or (df['O_Seed'][i] == 15 and df['OO_Seed'][i] == 6)) or \\\n",
    "            ((df['O_Seed'][i] == 11 and df['OO_Seed'][i] == 7) or (df['O_Seed'][i] == 7 and df['OO_Seed'][i] == 11)) or \\\n",
    "            ((df['O_Seed'][i] == 11 and df['OO_Seed'][i] == 10) or (df['O_Seed'][i] == 10 and df['OO_Seed'][i] == 11)) or \\\n",
    "            ((df['O_Seed'][i] == 11 and df['OO_Seed'][i] == 2) or (df['O_Seed'][i] == 2 and df['OO_Seed'][i] == 11)) or \\\n",
    "            ((df['O_Seed'][i] == 11 and df['OO_Seed'][i] == 15) or (df['O_Seed'][i] == 15 and df['OO_Seed'][i] == 11)) or \\\n",
    "            ((df['O_Seed'][i] == 3 and df['OO_Seed'][i] == 7) or (df['O_Seed'][i] == 7 and df['OO_Seed'][i] == 3)) or \\\n",
    "            ((df['O_Seed'][i] == 3 and df['OO_Seed'][i] == 10) or (df['O_Seed'][i] == 10 and df['OO_Seed'][i] == 3)) or \\\n",
    "            ((df['O_Seed'][i] == 3 and df['OO_Seed'][i] == 2) or (df['O_Seed'][i] == 2 and df['OO_Seed'][i] == 3)) or \\\n",
    "            ((df['O_Seed'][i] == 3 and df['OO_Seed'][i] == 15) or (df['O_Seed'][i] == 15 and df['OO_Seed'][i] == 3)) or \\\n",
    "            ((df['O_Seed'][i] == 14 and df['OO_Seed'][i] == 7) or (df['O_Seed'][i] == 7 and df['OO_Seed'][i] == 14)) or \\\n",
    "            ((df['O_Seed'][i] == 14 and df['OO_Seed'][i] == 10) or (df['O_Seed'][i] == 10 and df['OO_Seed'][i] == 14)) or \\\n",
    "            ((df['O_Seed'][i] == 14 and df['OO_Seed'][i] == 2) or (df['O_Seed'][i] == 2 and df['OO_Seed'][i] == 14)) or \\\n",
    "            ((df['O_Seed'][i] == 14 and df['OO_Seed'][i] == 15) or (df['O_Seed'][i] == 15 and df['OO_Seed'][i] == 14)):\n",
    "            \n",
    "            df['Round'][i] = 3\n",
    "            \n",
    "        #Fourth Round (Elite Eight)\n",
    "        else:\n",
    "            df['Round'][i] = 4\n",
    "            \n",
    "    #If not in same region:\n",
    "    #Fifth Round (Final Four)\n",
    "    elif ((df['Team1Region'][i] == 1 and df['Team2Region'][i] == 2) or (df['Team1Region'][i] == 2 and df['Team2Region'][i] == 1)) or \\\n",
    "         ((df['Team1Region'][i] == 0 and df['Team2Region'][i] == 3) or (df['Team1Region'][i] == 3 and df['Team2Region'][i] == 0)):\n",
    "        df['Round'][i] = 5\n",
    "        \n",
    "    #Final Round (Championship Game)\n",
    "    else:\n",
    "        df['Round'][i] = 6\n",
    "        \n",
    "        \n",
    "round_df = df['Round']\n",
    "           "
   ]
  },
  {
   "cell_type": "markdown",
   "id": "a33d9842",
   "metadata": {},
   "source": [
    "## Shallow Neural Network"
   ]
  },
  {
   "cell_type": "code",
   "execution_count": 40,
   "id": "7d964e97",
   "metadata": {},
   "outputs": [],
   "source": [
    "train_data_new = df[df['Final_Data_M_Season'] != 2022]\n",
    "test_data_new = df[df['Final_Data_M_Season'] == 2022]\n",
    "y_train_new = train_data_new['Winner_Index']\n",
    "del train_data_new['Winner_Index']\n",
    "x_train_new = train_data_new\n",
    "y_test_new = test_data_new['Winner_Index']\n",
    "del test_data_new['Winner_Index']\n",
    "x_test_new = test_data_new\n",
    "\n",
    "x_train_ = x_train_new.to_numpy()\n",
    "y_train_new = y_train_new.to_numpy()\n",
    "x_test_new = x_test_new.to_numpy()\n",
    "y_test_new = y_test_new.to_numpy()"
   ]
  },
  {
   "cell_type": "code",
   "execution_count": 41,
   "id": "c20ba2a7",
   "metadata": {},
   "outputs": [],
   "source": [
    "#played with using PCA. Might not have used it for mens and/or womens competition"
   ]
  },
  {
   "cell_type": "code",
   "execution_count": 42,
   "id": "66d2d9e0",
   "metadata": {},
   "outputs": [],
   "source": [
    "from sklearn.decomposition import PCA\n",
    "# Make an instance of the Model\n",
    "pca = PCA(.99)\n",
    "pca.fit(x_train_new)\n",
    "x_train_pca = pca.transform(x_train_new)\n",
    "x_test_pca = pca.transform(x_test_new)"
   ]
  },
  {
   "cell_type": "code",
   "execution_count": 43,
   "id": "bdd03ad2",
   "metadata": {},
   "outputs": [
    {
     "data": {
      "text/plain": [
       "24"
      ]
     },
     "execution_count": 43,
     "metadata": {},
     "output_type": "execute_result"
    }
   ],
   "source": [
    "len(x_train_pca[0])"
   ]
  },
  {
   "cell_type": "code",
   "execution_count": 44,
   "id": "e3541e1a",
   "metadata": {},
   "outputs": [
    {
     "data": {
      "text/plain": [
       "array([ 66.19400531, -12.2372912 , 403.99002537,   8.06215889,\n",
       "        -8.03110091, -12.16635683,  14.11413547,   2.99400765,\n",
       "       -41.9072105 ,  19.09890611, -19.99570636,  -7.42099022,\n",
       "        15.30574481,  -0.46911959,  21.79408713,  -0.43071693,\n",
       "         2.8385909 , -23.34683577,   1.73671224,  -4.41341333,\n",
       "         5.96584257,   7.12339062,   0.68036559,  -1.34642945])"
      ]
     },
     "execution_count": 44,
     "metadata": {},
     "output_type": "execute_result"
    }
   ],
   "source": [
    "x_train_pca[0]"
   ]
  },
  {
   "cell_type": "code",
   "execution_count": 45,
   "id": "108ae94c",
   "metadata": {},
   "outputs": [],
   "source": [
    "x_train_mean = np.mean(x_train_pca, axis = 0)\n",
    "x_train_std = np.std(x_train_pca, axis = 0)"
   ]
  },
  {
   "cell_type": "code",
   "execution_count": 46,
   "id": "6ec2d342",
   "metadata": {},
   "outputs": [],
   "source": [
    "x_train_pca = (x_train_pca - x_train_mean) / x_train_std\n",
    "x_test_pca = (x_test_pca - x_train_mean) / x_train_std\n",
    "# minn = np.min(x_train_pca)\n",
    "# maxx = np.max(x_train_pca)\n",
    "\n",
    "# x_train_pca = (x_train_pca - minn)/(maxx - minn)\n",
    "# x_test_pca =  (x_test_pca - minn)/(maxx - minn)"
   ]
  },
  {
   "cell_type": "code",
   "execution_count": 47,
   "id": "c25793da",
   "metadata": {},
   "outputs": [],
   "source": [
    "# Seed value\n",
    "# Apparently you may use different seed values at each stage\n",
    "seed_value= 19\n",
    "\n",
    "# 1. Set the `PYTHONHASHSEED` environment variable at a fixed value\n",
    "import os\n",
    "os.environ['PYTHONHASHSEED']=str(seed_value)\n",
    "\n",
    "# 2. Set the `python` built-in pseudo-random generator at a fixed value\n",
    "import random\n",
    "random.seed(seed_value)\n",
    "\n",
    "# 3. Set the `numpy` pseudo-random generator at a fixed value\n",
    "np.random.seed(seed_value)\n",
    "\n",
    "# 4. Set the `tensorflow` pseudo-random generator at a fixed value\n",
    "import tensorflow as tf\n",
    "tf.random.set_seed(seed_value)\n",
    "# for later versions: \n",
    "# tf.compat.v1.set_random_seed(seed_value)"
   ]
  },
  {
   "cell_type": "code",
   "execution_count": 48,
   "id": "642b5118",
   "metadata": {},
   "outputs": [
    {
     "name": "stdout",
     "output_type": "stream",
     "text": [
      "3/3 [==============================] - 0s 5ms/step\n",
      "0.582089552238806\n"
     ]
    }
   ],
   "source": [
    "import keras.optimizers\n",
    "\n",
    "from keras.models import Sequential\n",
    "from keras.layers import Dense\n",
    "from sklearn.datasets import make_blobs\n",
    "from sklearn.preprocessing import MinMaxScaler\n",
    "\n",
    "# define and fit the final model\n",
    "model = Sequential()\n",
    "model.add(Dense(10, input_shape=(x_train_pca.shape[1],), activation='relu'))\n",
    "#model.add(Dense(10, input_shape=(x_train_pca.shape[1],), activation='relu'))\n",
    "#model.add(Dense(5, input_shape=(x_train_pca.shape[1],), activation='relu'))\n",
    "model.add(Dense(1, activation='sigmoid'))\n",
    "opt = keras.optimizers.Adam(learning_rate= .01)\n",
    "model.compile(loss='binary_crossentropy', optimizer=opt)\n",
    "model.fit(x_train_pca, y_train_new, epochs=100, verbose=0)\n",
    "# new instances where we do not know the answer\n",
    "# make a prediction\n",
    "y_preds = model.predict(x_test_pca)\n",
    "# show the inputs and predicted outputs\n",
    "\n",
    "#print(y_preds)\n",
    "\n",
    "y_preds_adjusted = []\n",
    "for i in range(len(x_test_pca)):\n",
    "\n",
    "    if(y_preds[i] <= .5):\n",
    "        y_preds_adjusted.append(0)\n",
    "    else:\n",
    "        y_preds_adjusted.append(1)\n",
    "\n",
    "\n",
    "correct_count = 0\n",
    "for i in range(len(y_preds_adjusted)):\n",
    "    if y_preds_adjusted[i] == y_test_new[i]:\n",
    "        correct_count = correct_count + 1\n",
    "\n",
    "print( correct_count / len(y_preds_adjusted))"
   ]
  },
  {
   "cell_type": "code",
   "execution_count": 49,
   "id": "b94f8f6f",
   "metadata": {},
   "outputs": [
    {
     "name": "stdout",
     "output_type": "stream",
     "text": [
      "1.339712851455992\n"
     ]
    }
   ],
   "source": [
    "import math\n",
    "logloss = 0\n",
    "for i in range(len(y_preds_adjusted)):\n",
    "    logloss = logloss + (y_test_new[i] * math.log(((y_preds[i]))) + (1- y_test_new[i]) * math.log(((1-y_preds[i]))))\n",
    "\n",
    "logloss = -1 * (logloss / len(y_preds))\n",
    "print(logloss)"
   ]
  },
  {
   "cell_type": "code",
   "execution_count": 65,
   "id": "a5ac97a2",
   "metadata": {},
   "outputs": [],
   "source": [
    "#Looks like x_10 is the best to use right now! Let's retrain data with all data (not including 2023). 2023 Data will be \n",
    "#our test set and we'll see how it performs"
   ]
  },
  {
   "cell_type": "code",
   "execution_count": 66,
   "id": "c7cf0a3b",
   "metadata": {},
   "outputs": [
    {
     "data": {
      "text/plain": [
       "Index(['Final_Data_M_Season', 'DayNum', 'O_TeamID', 'O_Reg_Szn_Wins',\n",
       "       'O_Reg_Szn_Losses', 'O_Reg_Szn_Home_Wins', 'O_Reg_Szn_Home_Losses',\n",
       "       'O_Reg_Szn_Away_Wins', 'O_Reg_Szn_Away_Losses',\n",
       "       'O_Reg_Szn_Neutral_Wins',\n",
       "       ...\n",
       "       'Team1Last_Rank', 'Team2Avg_Rank', 'Team2Max_Rank', 'Team2Last_Rank',\n",
       "       'Winner_Index', 'Team1Region', 'Team2Region', 'BigConferenceTeam1',\n",
       "       'BigConferenceTeam2', 'Round'],\n",
       "      dtype='object', length=112)"
      ]
     },
     "execution_count": 66,
     "metadata": {},
     "output_type": "execute_result"
    }
   ],
   "source": [
    "df.columns"
   ]
  },
  {
   "cell_type": "markdown",
   "id": "fd70eb62",
   "metadata": {},
   "source": [
    "## Test Data"
   ]
  },
  {
   "cell_type": "code",
   "execution_count": 67,
   "id": "537f1a4f",
   "metadata": {},
   "outputs": [],
   "source": [
    "df = pd.read_csv('Final_Data_2023.csv')"
   ]
  },
  {
   "cell_type": "code",
   "execution_count": 68,
   "id": "a488620e",
   "metadata": {},
   "outputs": [
    {
     "name": "stderr",
     "output_type": "stream",
     "text": [
      "C:\\Users\\ejgal\\AppData\\Local\\Temp/ipykernel_27512/244350211.py:8: SettingWithCopyWarning: \n",
      "A value is trying to be set on a copy of a slice from a DataFrame\n",
      "\n",
      "See the caveats in the documentation: https://pandas.pydata.org/pandas-docs/stable/user_guide/indexing.html#returning-a-view-versus-a-copy\n",
      "  df['Team1Region'][i] = 1\n",
      "C:\\Users\\ejgal\\AppData\\Local\\Temp/ipykernel_27512/244350211.py:12: SettingWithCopyWarning: \n",
      "A value is trying to be set on a copy of a slice from a DataFrame\n",
      "\n",
      "See the caveats in the documentation: https://pandas.pydata.org/pandas-docs/stable/user_guide/indexing.html#returning-a-view-versus-a-copy\n",
      "  df['Team1Region'][i] = 3\n",
      "C:\\Users\\ejgal\\AppData\\Local\\Temp/ipykernel_27512/244350211.py:10: SettingWithCopyWarning: \n",
      "A value is trying to be set on a copy of a slice from a DataFrame\n",
      "\n",
      "See the caveats in the documentation: https://pandas.pydata.org/pandas-docs/stable/user_guide/indexing.html#returning-a-view-versus-a-copy\n",
      "  df['Team1Region'][i] = 2\n",
      "C:\\Users\\ejgal\\AppData\\Local\\Temp/ipykernel_27512/244350211.py:6: SettingWithCopyWarning: \n",
      "A value is trying to be set on a copy of a slice from a DataFrame\n",
      "\n",
      "See the caveats in the documentation: https://pandas.pydata.org/pandas-docs/stable/user_guide/indexing.html#returning-a-view-versus-a-copy\n",
      "  df['Team1Region'][i] = 0\n",
      "C:\\Users\\ejgal\\AppData\\Local\\Temp/ipykernel_27512/244350211.py:18: SettingWithCopyWarning: \n",
      "A value is trying to be set on a copy of a slice from a DataFrame\n",
      "\n",
      "See the caveats in the documentation: https://pandas.pydata.org/pandas-docs/stable/user_guide/indexing.html#returning-a-view-versus-a-copy\n",
      "  df['Team2Region'][i] = 1\n",
      "C:\\Users\\ejgal\\AppData\\Local\\Temp/ipykernel_27512/244350211.py:22: SettingWithCopyWarning: \n",
      "A value is trying to be set on a copy of a slice from a DataFrame\n",
      "\n",
      "See the caveats in the documentation: https://pandas.pydata.org/pandas-docs/stable/user_guide/indexing.html#returning-a-view-versus-a-copy\n",
      "  df['Team2Region'][i] = 3\n",
      "C:\\Users\\ejgal\\AppData\\Local\\Temp/ipykernel_27512/244350211.py:20: SettingWithCopyWarning: \n",
      "A value is trying to be set on a copy of a slice from a DataFrame\n",
      "\n",
      "See the caveats in the documentation: https://pandas.pydata.org/pandas-docs/stable/user_guide/indexing.html#returning-a-view-versus-a-copy\n",
      "  df['Team2Region'][i] = 2\n",
      "C:\\Users\\ejgal\\AppData\\Local\\Temp/ipykernel_27512/244350211.py:16: SettingWithCopyWarning: \n",
      "A value is trying to be set on a copy of a slice from a DataFrame\n",
      "\n",
      "See the caveats in the documentation: https://pandas.pydata.org/pandas-docs/stable/user_guide/indexing.html#returning-a-view-versus-a-copy\n",
      "  df['Team2Region'][i] = 0\n"
     ]
    }
   ],
   "source": [
    "df['Team1Region'] = 5\n",
    "df['Team2Region'] = 5\n",
    "\n",
    "for i in range(len(df)):\n",
    "    if df['O_Seed'][i][0] == 'W':\n",
    "        df['Team1Region'][i] = 0\n",
    "    elif df['O_Seed'][i][0] == 'X':\n",
    "        df['Team1Region'][i] = 1\n",
    "    elif df['O_Seed'][i][0] == 'Y':\n",
    "        df['Team1Region'][i] = 2\n",
    "    else:\n",
    "        df['Team1Region'][i] = 3\n",
    "        \n",
    "for i in range(len(df)):\n",
    "    if df['OO_Seed'][i][0] == 'W':\n",
    "        df['Team2Region'][i] = 0\n",
    "    elif df['OO_Seed'][i][0] == 'X':\n",
    "        df['Team2Region'][i] = 1\n",
    "    elif df['OO_Seed'][i][0] == 'Y':\n",
    "        df['Team2Region'][i] = 2\n",
    "    else:\n",
    "        df['Team2Region'][i] = 3"
   ]
  },
  {
   "cell_type": "code",
   "execution_count": 69,
   "id": "65f54d1c",
   "metadata": {},
   "outputs": [
    {
     "name": "stderr",
     "output_type": "stream",
     "text": [
      "C:\\Users\\ejgal\\AppData\\Local\\Temp/ipykernel_27512/3335909771.py:2: SettingWithCopyWarning: \n",
      "A value is trying to be set on a copy of a slice from a DataFrame\n",
      "\n",
      "See the caveats in the documentation: https://pandas.pydata.org/pandas-docs/stable/user_guide/indexing.html#returning-a-view-versus-a-copy\n",
      "  df['O_Seed'][i] = df['O_Seed'][i][1] + df['O_Seed'][i][2]\n",
      "C:\\Users\\ejgal\\AppData\\Local\\Temp/ipykernel_27512/3335909771.py:3: SettingWithCopyWarning: \n",
      "A value is trying to be set on a copy of a slice from a DataFrame\n",
      "\n",
      "See the caveats in the documentation: https://pandas.pydata.org/pandas-docs/stable/user_guide/indexing.html#returning-a-view-versus-a-copy\n",
      "  df['OO_Seed'][i] = df['OO_Seed'][i][1] + df['OO_Seed'][i][2]\n"
     ]
    }
   ],
   "source": [
    "for i in range(len(df)):\n",
    "    df['O_Seed'][i] = df['O_Seed'][i][1] + df['O_Seed'][i][2]\n",
    "    df['OO_Seed'][i] = df['OO_Seed'][i][1] + df['OO_Seed'][i][2]"
   ]
  },
  {
   "cell_type": "code",
   "execution_count": 70,
   "id": "85a4b29d",
   "metadata": {},
   "outputs": [],
   "source": [
    "df['O_Seed'] = df['O_Seed'].astype('int64')\n",
    "df['OO_Seed'] = df['OO_Seed'].astype('int64')"
   ]
  },
  {
   "cell_type": "code",
   "execution_count": 71,
   "id": "3a6ca0b5",
   "metadata": {},
   "outputs": [
    {
     "data": {
      "text/plain": [
       "Index(['Final_Data_M_Season', 'Daynum', 'O_Season', 'O_TeamID',\n",
       "       'O_Reg_Szn_Wins', 'O_Reg_Szn_Losses', 'O_Reg_Szn_Home_Wins',\n",
       "       'O_Reg_Szn_Home_Losses', 'O_Reg_Szn_Away_Wins', 'O_Reg_Szn_Away_Losses',\n",
       "       ...\n",
       "       'OO_ConfID', 'OO_Seed', 'Team1Avg_Rank', 'Team1Max_Rank',\n",
       "       'Team1Last_Rank', 'Team2Avg_Rank', 'Team2Max_Rank', 'Team2Last_Rank',\n",
       "       'Team1Region', 'Team2Region'],\n",
       "      dtype='object', length=110)"
      ]
     },
     "execution_count": 71,
     "metadata": {},
     "output_type": "execute_result"
    }
   ],
   "source": [
    "df.columns"
   ]
  },
  {
   "cell_type": "code",
   "execution_count": 72,
   "id": "0f966aa5",
   "metadata": {},
   "outputs": [],
   "source": [
    "#Note: In actual competiion, I might have gotten rid of some conference/round columns"
   ]
  },
  {
   "cell_type": "code",
   "execution_count": 73,
   "id": "9ce03f6c",
   "metadata": {},
   "outputs": [
    {
     "name": "stderr",
     "output_type": "stream",
     "text": [
      "C:\\Users\\ejgal\\AppData\\Local\\Temp/ipykernel_27512/4239412644.py:79: SettingWithCopyWarning: \n",
      "A value is trying to be set on a copy of a slice from a DataFrame\n",
      "\n",
      "See the caveats in the documentation: https://pandas.pydata.org/pandas-docs/stable/user_guide/indexing.html#returning-a-view-versus-a-copy\n",
      "  df['Round'][i] = 4\n",
      "C:\\Users\\ejgal\\AppData\\Local\\Temp/ipykernel_27512/4239412644.py:89: SettingWithCopyWarning: \n",
      "A value is trying to be set on a copy of a slice from a DataFrame\n",
      "\n",
      "See the caveats in the documentation: https://pandas.pydata.org/pandas-docs/stable/user_guide/indexing.html#returning-a-view-versus-a-copy\n",
      "  df['Round'][i] = 6\n",
      "C:\\Users\\ejgal\\AppData\\Local\\Temp/ipykernel_27512/4239412644.py:85: SettingWithCopyWarning: \n",
      "A value is trying to be set on a copy of a slice from a DataFrame\n",
      "\n",
      "See the caveats in the documentation: https://pandas.pydata.org/pandas-docs/stable/user_guide/indexing.html#returning-a-view-versus-a-copy\n",
      "  df['Round'][i] = 5\n",
      "C:\\Users\\ejgal\\AppData\\Local\\Temp/ipykernel_27512/4239412644.py:75: SettingWithCopyWarning: \n",
      "A value is trying to be set on a copy of a slice from a DataFrame\n",
      "\n",
      "See the caveats in the documentation: https://pandas.pydata.org/pandas-docs/stable/user_guide/indexing.html#returning-a-view-versus-a-copy\n",
      "  df['Round'][i] = 3\n",
      "C:\\Users\\ejgal\\AppData\\Local\\Temp/ipykernel_27512/4239412644.py:39: SettingWithCopyWarning: \n",
      "A value is trying to be set on a copy of a slice from a DataFrame\n",
      "\n",
      "See the caveats in the documentation: https://pandas.pydata.org/pandas-docs/stable/user_guide/indexing.html#returning-a-view-versus-a-copy\n",
      "  df['Round'][i] = 2\n",
      "C:\\Users\\ejgal\\AppData\\Local\\Temp/ipykernel_27512/4239412644.py:18: SettingWithCopyWarning: \n",
      "A value is trying to be set on a copy of a slice from a DataFrame\n",
      "\n",
      "See the caveats in the documentation: https://pandas.pydata.org/pandas-docs/stable/user_guide/indexing.html#returning-a-view-versus-a-copy\n",
      "  df['Round'][i] = 1\n"
     ]
    }
   ],
   "source": [
    "#set to Play in games initially\n",
    "df['Round'] = 0\n",
    "\n",
    "for i in range(len(df)):\n",
    "    #print(df['O_Seed'][i], \" \", df['OO_Seed'][i])\n",
    "    #if they're in the same region \n",
    "    if df['Team1Region'][i] == df['Team2Region'][i]:\n",
    "        #first round (Round of 64)\n",
    "        if (((df['O_Seed'][i] == 1 and df['OO_Seed'][i] == 16) or (df['O_Seed'][i] == 16 and df['OO_Seed'][i] == 1)) or \\\n",
    "            ((df['O_Seed'][i] == 2 and df['OO_Seed'][i] == 15) or (df['O_Seed'][i] == 15 and df['OO_Seed'][i] == 2)) or \\\n",
    "            ((df['O_Seed'][i] == 3 and df['OO_Seed'][i] == 14) or (df['O_Seed'][i] == 14 and df['OO_Seed'][i] == 3)) or \\\n",
    "            ((df['O_Seed'][i] == 4 and df['OO_Seed'][i] == 13) or (df['O_Seed'][i] == 13 and df['OO_Seed'][i] == 4)) or \\\n",
    "            ((df['O_Seed'][i] == 5 and df['OO_Seed'][i] == 12) or (df['O_Seed'][i] == 12 and df['OO_Seed'][i] == 5)) or \\\n",
    "            ((df['O_Seed'][i] == 6 and df['OO_Seed'][i] == 11) or (df['O_Seed'][i] == 11 and df['OO_Seed'][i] == 6)) or \\\n",
    "            ((df['O_Seed'][i] == 7 and df['OO_Seed'][i] == 10) or (df['O_Seed'][i] == 10 and df['OO_Seed'][i] == 7)) or \\\n",
    "            ((df['O_Seed'][i] == 8 and df['OO_Seed'][i] == 9) or (df['O_Seed'][i] == 9 and df['OO_Seed'][i] == 8))):\n",
    "            \n",
    "            df['Round'][i] = 1\n",
    "            \n",
    "            \n",
    "        #second round (Round of 32)\n",
    "        elif ((df['O_Seed'][i] == 1 and df['OO_Seed'][i] == 8) or (df['O_Seed'][i] == 8 and df['OO_Seed'][i] == 1)) or \\\n",
    "            ((df['O_Seed'][i] == 1 and df['OO_Seed'][i] == 9) or (df['O_Seed'][i] == 9 and df['OO_Seed'][i] == 1)) or \\\n",
    "            ((df['O_Seed'][i] == 16 and df['OO_Seed'][i] == 8) or (df['O_Seed'][i] == 8 and df['OO_Seed'][i] == 16)) or \\\n",
    "            ((df['O_Seed'][i] == 16 and df['OO_Seed'][i] == 9) or (df['O_Seed'][i] == 9 and df['OO_Seed'][i] == 16)) or \\\n",
    "            ((df['O_Seed'][i] == 5 and df['OO_Seed'][i] == 4) or (df['O_Seed'][i] == 4 and df['OO_Seed'][i] == 5)) or \\\n",
    "            ((df['O_Seed'][i] == 5 and df['OO_Seed'][i] == 13) or (df['O_Seed'][i] == 13 and df['OO_Seed'][i] == 5)) or \\\n",
    "            ((df['O_Seed'][i] == 12 and df['OO_Seed'][i] == 4) or (df['O_Seed'][i] == 4 and df['OO_Seed'][i] == 12)) or \\\n",
    "            ((df['O_Seed'][i] == 12 and df['OO_Seed'][i] == 13) or (df['O_Seed'][i] == 13 and df['OO_Seed'][i] == 12)) or \\\n",
    "            ((df['O_Seed'][i] == 6 and df['OO_Seed'][i] == 3) or (df['O_Seed'][i] == 3 and df['OO_Seed'][i] == 6)) or \\\n",
    "            ((df['O_Seed'][i] == 6 and df['OO_Seed'][i] == 14) or (df['O_Seed'][i] == 14 and df['OO_Seed'][i] == 6)) or \\\n",
    "            ((df['O_Seed'][i] == 11 and df['OO_Seed'][i] == 3) or (df['O_Seed'][i] == 3 and df['OO_Seed'][i] == 11)) or \\\n",
    "            ((df['O_Seed'][i] == 11 and df['OO_Seed'][i] == 14) or (df['O_Seed'][i] == 14 and df['OO_Seed'][i] == 11)) or \\\n",
    "            ((df['O_Seed'][i] == 7 and df['OO_Seed'][i] == 2) or (df['O_Seed'][i] == 2 and df['OO_Seed'][i] == 7)) or \\\n",
    "            ((df['O_Seed'][i] == 7 and df['OO_Seed'][i] == 15) or (df['O_Seed'][i] == 15 and df['OO_Seed'][i] == 7)) or \\\n",
    "            ((df['O_Seed'][i] == 10 and df['OO_Seed'][i] == 2) or (df['O_Seed'][i] == 2 and df['OO_Seed'][i] == 10)) or \\\n",
    "            ((df['O_Seed'][i] == 10 and df['OO_Seed'][i] == 15) or (df['O_Seed'][i] == 15 and df['OO_Seed'][i] == 10)):\n",
    "            \n",
    "            df['Round'][i] = 2\n",
    "            \n",
    "        #Third Round (Sweet Sixteen)\n",
    "        elif ((df['O_Seed'][i] == 1 and df['OO_Seed'][i] == 5) or (df['O_Seed'][i] == 5 and df['OO_Seed'][i] == 1)) or \\\n",
    "            ((df['O_Seed'][i] == 1 and df['OO_Seed'][i] == 12) or (df['O_Seed'][i] == 12 and df['OO_Seed'][i] == 1)) or \\\n",
    "            ((df['O_Seed'][i] == 1 and df['OO_Seed'][i] == 4) or (df['O_Seed'][i] == 4 and df['OO_Seed'][i] == 1)) or \\\n",
    "            ((df['O_Seed'][i] == 1 and df['OO_Seed'][i] == 13) or (df['O_Seed'][i] == 13 and df['OO_Seed'][i] == 1)) or \\\n",
    "            ((df['O_Seed'][i] == 16 and df['OO_Seed'][i] == 5) or (df['O_Seed'][i] == 5 and df['OO_Seed'][i] == 16)) or \\\n",
    "            ((df['O_Seed'][i] == 16 and df['OO_Seed'][i] == 12) or (df['O_Seed'][i] == 12 and df['OO_Seed'][i] == 16)) or \\\n",
    "            ((df['O_Seed'][i] == 16 and df['OO_Seed'][i] == 4) or (df['O_Seed'][i] == 4 and df['OO_Seed'][i] == 16)) or \\\n",
    "            ((df['O_Seed'][i] == 16 and df['OO_Seed'][i] == 13) or (df['O_Seed'][i] == 13 and df['OO_Seed'][i] == 16)) or \\\n",
    "            ((df['O_Seed'][i] == 8 and df['OO_Seed'][i] == 5) or (df['O_Seed'][i] == 5 and df['OO_Seed'][i] == 8)) or \\\n",
    "            ((df['O_Seed'][i] == 8 and df['OO_Seed'][i] == 12) or (df['O_Seed'][i] == 12 and df['OO_Seed'][i] == 8)) or \\\n",
    "            ((df['O_Seed'][i] == 8 and df['OO_Seed'][i] == 4) or (df['O_Seed'][i] == 4 and df['OO_Seed'][i] == 8)) or \\\n",
    "            ((df['O_Seed'][i] == 8 and df['OO_Seed'][i] == 13) or (df['O_Seed'][i] == 13 and df['OO_Seed'][i] == 8)) or \\\n",
    "            ((df['O_Seed'][i] == 9 and df['OO_Seed'][i] == 5) or (df['O_Seed'][i] == 5 and df['OO_Seed'][i] == 9)) or \\\n",
    "            ((df['O_Seed'][i] == 9 and df['OO_Seed'][i] == 12) or (df['O_Seed'][i] == 12 and df['OO_Seed'][i] == 9)) or \\\n",
    "            ((df['O_Seed'][i] == 9 and df['OO_Seed'][i] == 4) or (df['O_Seed'][i] == 4 and df['OO_Seed'][i] == 9)) or \\\n",
    "            ((df['O_Seed'][i] == 9 and df['OO_Seed'][i] == 13) or (df['O_Seed'][i] == 13 and df['OO_Seed'][i] == 9)) or \\\n",
    "            ((df['O_Seed'][i] == 6 and df['OO_Seed'][i] == 7) or (df['O_Seed'][i] == 7 and df['OO_Seed'][i] == 6)) or \\\n",
    "            ((df['O_Seed'][i] == 6 and df['OO_Seed'][i] == 10) or (df['O_Seed'][i] == 10 and df['OO_Seed'][i] == 6)) or \\\n",
    "            ((df['O_Seed'][i] == 6 and df['OO_Seed'][i] == 2) or (df['O_Seed'][i] == 2 and df['OO_Seed'][i] == 6)) or \\\n",
    "            ((df['O_Seed'][i] == 6 and df['OO_Seed'][i] == 15) or (df['O_Seed'][i] == 15 and df['OO_Seed'][i] == 6)) or \\\n",
    "            ((df['O_Seed'][i] == 11 and df['OO_Seed'][i] == 7) or (df['O_Seed'][i] == 7 and df['OO_Seed'][i] == 11)) or \\\n",
    "            ((df['O_Seed'][i] == 11 and df['OO_Seed'][i] == 10) or (df['O_Seed'][i] == 10 and df['OO_Seed'][i] == 11)) or \\\n",
    "            ((df['O_Seed'][i] == 11 and df['OO_Seed'][i] == 2) or (df['O_Seed'][i] == 2 and df['OO_Seed'][i] == 11)) or \\\n",
    "            ((df['O_Seed'][i] == 11 and df['OO_Seed'][i] == 15) or (df['O_Seed'][i] == 15 and df['OO_Seed'][i] == 11)) or \\\n",
    "            ((df['O_Seed'][i] == 3 and df['OO_Seed'][i] == 7) or (df['O_Seed'][i] == 7 and df['OO_Seed'][i] == 3)) or \\\n",
    "            ((df['O_Seed'][i] == 3 and df['OO_Seed'][i] == 10) or (df['O_Seed'][i] == 10 and df['OO_Seed'][i] == 3)) or \\\n",
    "            ((df['O_Seed'][i] == 3 and df['OO_Seed'][i] == 2) or (df['O_Seed'][i] == 2 and df['OO_Seed'][i] == 3)) or \\\n",
    "            ((df['O_Seed'][i] == 3 and df['OO_Seed'][i] == 15) or (df['O_Seed'][i] == 15 and df['OO_Seed'][i] == 3)) or \\\n",
    "            ((df['O_Seed'][i] == 14 and df['OO_Seed'][i] == 7) or (df['O_Seed'][i] == 7 and df['OO_Seed'][i] == 14)) or \\\n",
    "            ((df['O_Seed'][i] == 14 and df['OO_Seed'][i] == 10) or (df['O_Seed'][i] == 10 and df['OO_Seed'][i] == 14)) or \\\n",
    "            ((df['O_Seed'][i] == 14 and df['OO_Seed'][i] == 2) or (df['O_Seed'][i] == 2 and df['OO_Seed'][i] == 14)) or \\\n",
    "            ((df['O_Seed'][i] == 14 and df['OO_Seed'][i] == 15) or (df['O_Seed'][i] == 15 and df['OO_Seed'][i] == 14)):\n",
    "            \n",
    "            df['Round'][i] = 3\n",
    "            \n",
    "        #Fourth Round (Elite Eight)\n",
    "        else:\n",
    "            df['Round'][i] = 4\n",
    "            \n",
    "    #If not in same region:\n",
    "    #Fifth Round (Final Four)\n",
    "    elif ((df['Team1Region'][i] == 1 and df['Team2Region'][i] == 2) or (df['Team1Region'][i] == 2 and df['Team2Region'][i] == 1)) or \\\n",
    "         ((df['Team1Region'][i] == 0 and df['Team2Region'][i] == 3) or (df['Team1Region'][i] == 3 and df['Team2Region'][i] == 0)):\n",
    "        df['Round'][i] = 5\n",
    "        \n",
    "    #Final Round (Championship Game)\n",
    "    else:\n",
    "        df['Round'][i] = 6\n",
    "        "
   ]
  },
  {
   "cell_type": "code",
   "execution_count": 74,
   "id": "6741285f",
   "metadata": {},
   "outputs": [
    {
     "name": "stderr",
     "output_type": "stream",
     "text": [
      "C:\\Users\\ejgal\\AppData\\Local\\Temp/ipykernel_27512/361265926.py:5: SettingWithCopyWarning: \n",
      "A value is trying to be set on a copy of a slice from a DataFrame\n",
      "\n",
      "See the caveats in the documentation: https://pandas.pydata.org/pandas-docs/stable/user_guide/indexing.html#returning-a-view-versus-a-copy\n",
      "  df['BigConferenceTeam1'][i] = 1\n",
      "C:\\Users\\ejgal\\AppData\\Local\\Temp/ipykernel_27512/361265926.py:7: SettingWithCopyWarning: \n",
      "A value is trying to be set on a copy of a slice from a DataFrame\n",
      "\n",
      "See the caveats in the documentation: https://pandas.pydata.org/pandas-docs/stable/user_guide/indexing.html#returning-a-view-versus-a-copy\n",
      "  df['BigConferenceTeam2'][i] = 1\n"
     ]
    }
   ],
   "source": [
    "df['BigConferenceTeam1'] = 0\n",
    "df['BigConferenceTeam2'] = 0\n",
    "for i in range(len(df)):\n",
    "    if df['O_ConfID'][i] == 4 or df['O_ConfID'][i] == 8 or df['O_ConfID'][i] == 12 or df['O_ConfID'][i] == 13 or df['O_ConfID'][i] == 39 or df['O_ConfID'][i] == 40 or df['O_ConfID'][i] == 43:\n",
    "        df['BigConferenceTeam1'][i] = 1\n",
    "    if df['OO_ConfID'][i] == 4 or df['OO_ConfID'][i] == 8 or df['OO_ConfID'][i] == 12 or df['OO_ConfID'][i] == 13 or df['OO_ConfID'][i] == 39 or df['OO_ConfID'][i] == 40 or df['OO_ConfID'][i] == 43:\n",
    "        df['BigConferenceTeam2'][i] = 1"
   ]
  },
  {
   "cell_type": "code",
   "execution_count": 75,
   "id": "06656f54",
   "metadata": {},
   "outputs": [],
   "source": [
    "del df['O_Season']\n",
    "del df['OO_Season']"
   ]
  },
  {
   "cell_type": "code",
   "execution_count": 76,
   "id": "2f09fd1b",
   "metadata": {},
   "outputs": [
    {
     "data": {
      "text/plain": [
       "Index(['Final_Data_M_Season', 'Daynum', 'O_TeamID', 'O_Reg_Szn_Wins',\n",
       "       'O_Reg_Szn_Losses', 'O_Reg_Szn_Home_Wins', 'O_Reg_Szn_Home_Losses',\n",
       "       'O_Reg_Szn_Away_Wins', 'O_Reg_Szn_Away_Losses',\n",
       "       'O_Reg_Szn_Neutral_Wins',\n",
       "       ...\n",
       "       'Team1Max_Rank', 'Team1Last_Rank', 'Team2Avg_Rank', 'Team2Max_Rank',\n",
       "       'Team2Last_Rank', 'Team1Region', 'Team2Region', 'Round',\n",
       "       'BigConferenceTeam1', 'BigConferenceTeam2'],\n",
       "      dtype='object', length=111)"
      ]
     },
     "execution_count": 76,
     "metadata": {},
     "output_type": "execute_result"
    }
   ],
   "source": [
    "df.columns"
   ]
  },
  {
   "cell_type": "code",
   "execution_count": 77,
   "id": "5b408441",
   "metadata": {},
   "outputs": [],
   "source": [
    "x_test = df.to_numpy()"
   ]
  },
  {
   "cell_type": "code",
   "execution_count": 78,
   "id": "7face166",
   "metadata": {},
   "outputs": [],
   "source": [
    "pca.fit(x_train_new)\n",
    "x_test = pca.transform(x_test)"
   ]
  },
  {
   "cell_type": "code",
   "execution_count": 79,
   "id": "99ec2d7a",
   "metadata": {},
   "outputs": [
    {
     "data": {
      "text/plain": [
       "array([ 6.00773938e+01,  2.51658786e+02, -8.06258702e+01, -1.97942642e+01,\n",
       "        1.16794267e+00,  2.93997757e+01, -1.19535495e+01, -1.67571914e+00,\n",
       "        6.82279432e+00,  1.63844412e+00, -9.44940173e+00,  1.26776603e-02,\n",
       "       -6.02739846e+00, -6.17770688e+00,  5.70859854e+00, -3.10763941e+00,\n",
       "       -1.81091274e+00,  1.04006046e+01,  4.74900993e+00,  3.69986883e+00,\n",
       "        7.87381003e+00,  7.76934499e+00, -5.99601235e+00, -1.83849009e+00])"
      ]
     },
     "execution_count": 79,
     "metadata": {},
     "output_type": "execute_result"
    }
   ],
   "source": [
    "x_test[0]"
   ]
  },
  {
   "cell_type": "code",
   "execution_count": 80,
   "id": "3f986124",
   "metadata": {},
   "outputs": [],
   "source": [
    "x_test = (x_test - x_train_mean)/x_train_std"
   ]
  },
  {
   "cell_type": "code",
   "execution_count": 81,
   "id": "a22eca76",
   "metadata": {},
   "outputs": [
    {
     "data": {
      "text/plain": [
       "array([ 5.60776825e-01,  2.48793731e+00, -9.84198730e-01, -2.68464367e-01,\n",
       "        7.25968719e-02,  1.88392484e+00, -9.92764188e-01, -1.40232275e-01,\n",
       "        7.14911451e-01,  1.74102532e-01, -1.04097412e+00,  1.43754863e-03,\n",
       "       -7.30190491e-01, -7.74278570e-01,  7.29113370e-01, -4.13736392e-01,\n",
       "       -2.47107998e-01,  1.48368424e+00,  7.21521845e-01,  5.90033499e-01,\n",
       "        1.32682820e+00,  1.35170430e+00, -1.06938183e+00, -3.44394515e-01])"
      ]
     },
     "execution_count": 81,
     "metadata": {},
     "output_type": "execute_result"
    }
   ],
   "source": [
    "x_test[0]"
   ]
  },
  {
   "cell_type": "code",
   "execution_count": 82,
   "id": "f969c6d3",
   "metadata": {},
   "outputs": [
    {
     "name": "stdout",
     "output_type": "stream",
     "text": [
      "72/72 [==============================] - 0s 3ms/step\n"
     ]
    }
   ],
   "source": [
    "y_test_predictions = model.predict(x_test)"
   ]
  },
  {
   "cell_type": "code",
   "execution_count": 83,
   "id": "ba8f2124",
   "metadata": {},
   "outputs": [],
   "source": [
    "y_test_preds_adjusted = []\n",
    "for i in range(len(x_test)):\n",
    "    #print(\"X=%s, Predicted=%s\" % (x_val[i], y_preds[i]))\n",
    "    if(y_test_predictions[i] <= .5):\n",
    "        y_test_preds_adjusted.append(0)\n",
    "    else:\n",
    "        y_test_preds_adjusted.append(1)"
   ]
  },
  {
   "cell_type": "code",
   "execution_count": 84,
   "id": "f281bf5e",
   "metadata": {},
   "outputs": [
    {
     "name": "stdout",
     "output_type": "stream",
     "text": [
      "0.37445127304653203\n"
     ]
    }
   ],
   "source": [
    "zero_count = 0\n",
    "for i in range(len(y_test_preds_adjusted)):\n",
    "    if y_test_preds_adjusted[i] == 0:\n",
    "        zero_count = zero_count + 1\n",
    "        \n",
    "print(zero_count / len(y_test_preds_adjusted))"
   ]
  },
  {
   "cell_type": "code",
   "execution_count": 86,
   "id": "9299523a",
   "metadata": {},
   "outputs": [],
   "source": [
    "df_predictions = pd.DataFrame()"
   ]
  },
  {
   "cell_type": "code",
   "execution_count": 87,
   "id": "66300848",
   "metadata": {},
   "outputs": [],
   "source": [
    "df_predictions['Team1ID'] = 0\n",
    "df_predictions['Team2ID'] = 0\n",
    "df_predictions['WinProb_Team1'] = 0"
   ]
  },
  {
   "cell_type": "code",
   "execution_count": 88,
   "id": "24f41b53",
   "metadata": {},
   "outputs": [],
   "source": [
    "for i in range(len(y_test_predictions)):\n",
    "    df_predictions.loc[len(df_predictions.index)] = [df['O_TeamID'][i], df['OO_TeamID'][i], y_test_predictions[i][0]] "
   ]
  },
  {
   "cell_type": "code",
   "execution_count": 89,
   "id": "baff433d",
   "metadata": {},
   "outputs": [],
   "source": [
    "df_predictions.to_csv('Men_Predictions_Trial1.csv')"
   ]
  },
  {
   "cell_type": "code",
   "execution_count": 90,
   "id": "6fc52f1e",
   "metadata": {},
   "outputs": [
    {
     "name": "stdout",
     "output_type": "stream",
     "text": [
      "3/3 [==============================] - 0s 3ms/step\n",
      "0.5970149253731343\n"
     ]
    }
   ],
   "source": [
    "model.fit(x_train_pca, y_train_new, epochs=100, verbose=0)\n",
    "# new instances where we do not know the answer\n",
    "# make a prediction\n",
    "y_preds = model.predict(x_test_pca)\n",
    "# show the inputs and predicted outputs\n",
    "\n",
    "#print(y_preds)\n",
    "\n",
    "y_preds_adjusted = []\n",
    "for i in range(len(x_test_pca)):\n",
    "    #print(\"X=%s, Predicted=%s\" % (x_val[i], y_preds[i]))\n",
    "    if(y_preds[i] <= .5):\n",
    "        y_preds_adjusted.append(0)\n",
    "    else:\n",
    "        y_preds_adjusted.append(1)\n",
    "\n",
    "\n",
    "correct_count = 0\n",
    "for i in range(len(y_preds_adjusted)):\n",
    "    if y_preds_adjusted[i] == y_test_new[i]:\n",
    "        correct_count = correct_count + 1\n",
    "\n",
    "print( correct_count / len(y_preds_adjusted))"
   ]
  },
  {
   "cell_type": "markdown",
   "id": "ada2c0a5",
   "metadata": {},
   "source": [
    "## Women's Tournament"
   ]
  },
  {
   "cell_type": "code",
   "execution_count": 91,
   "id": "1d09b52d",
   "metadata": {},
   "outputs": [],
   "source": [
    "dfw = pd.read_csv('Womens_Data_Final2.csv')"
   ]
  },
  {
   "cell_type": "code",
   "execution_count": 92,
   "id": "dba0cc96",
   "metadata": {},
   "outputs": [],
   "source": [
    "del dfw['O_Season']\n",
    "del dfw['OO_Season']\n",
    "del dfw['WLoc']"
   ]
  },
  {
   "cell_type": "code",
   "execution_count": 93,
   "id": "7aa2f603",
   "metadata": {},
   "outputs": [],
   "source": [
    "#get some random samples\n",
    "df_tempw = dfw.sample(n = 758)"
   ]
  },
  {
   "cell_type": "code",
   "execution_count": 94,
   "id": "b2d029e4",
   "metadata": {},
   "outputs": [],
   "source": [
    "df_tempw2 = dfw[ ~dfw.index.isin( df_tempw.index ) ]"
   ]
  },
  {
   "cell_type": "code",
   "execution_count": 95,
   "id": "11d58db1",
   "metadata": {},
   "outputs": [],
   "source": [
    "#create copy of df_temp2\n",
    "df_tempw2_copy = df_tempw2"
   ]
  },
  {
   "cell_type": "code",
   "execution_count": 96,
   "id": "12b6a947",
   "metadata": {},
   "outputs": [],
   "source": [
    "df_tempw2 = df_tempw2_copy[['A_Season', 'DayNum', 'LScore', 'OO_TeamID', 'OO_Reg_Szn_Wins', 'OO_Reg_Szn_Losses', \\\n",
    "       'OO_Reg_Szn_Home_Wins', 'OO_Reg_Szn_Home_Losses', \\\n",
    "       'OO_Reg_Szn_Away_Wins', 'OO_Reg_Szn_Away_Losses', \\\n",
    "       'OO_Reg_Szn_Neutral_Wins', 'OO_Reg_Szn_Neutral_Losses', \\\n",
    "       'OO_Rec1_Reg_Szn_Wins', 'OO_Rec1_Reg_Szn_Avg_Win_Margin', \\\n",
    "       'OO_Rec1_Reg_Szn_Losses', 'OO_Rec1_Reg_Szn_Avg_Loss_Margin', \\\n",
    "       'OO_Rec1_Reg_Szn_Home_Wins', 'OO_Rec1_Reg_Szn_Avg_Home_Win_Margin', \\\n",
    "       'OO_Rec1_Reg_Szn_Home_Losses', 'OO_Rec1_Reg_Szn_Avg_Home_Loss_Margin', \\\n",
    "       'OO_Rec1_Reg_Szn_Away_Wins', 'OO_Rec1_Reg_Szn_Avg_Away_Win_Margin', \\\n",
    "       'OO_Rec1_Reg_Szn_Away_Losses', 'OO_Rec1_Reg_Szn_Avg_Away_Loss_Margin', \\\n",
    "       'OO_Rec2_Reg_Szn_Wins', 'OO_Rec2_Reg_Szn_Avg_Win_Margin', \\\n",
    "       'OO_Rec2_Reg_Szn_Losses', 'OO_Rec2_Reg_Szn_Avg_Loss_Margin', \\\n",
    "       'OO_Rec2_Reg_Szn_Home_Wins', 'OO_Rec2_Reg_Szn_Avg_Home_Win_Margin', \\\n",
    "       'OO_Rec2_Reg_Szn_Home_Losses', 'OO_Rec2_Reg_Szn_Avg_Home_Loss_Margin', \\\n",
    "       'OO_Rec2_Reg_Szn_Away_Wins', 'OO_Rec2_Reg_Szn_Avg_Away_Win_Margin', \\\n",
    "       'OO_Rec2_Reg_Szn_Away_Losses', 'OO_Rec2_Reg_Szn_Avg_Away_Loss_Margin', \\\n",
    "       'OO_Rec3_Reg_Szn_Wins', 'OO_Rec3_Reg_Szn_Avg_Win_Margin', \\\n",
    "       'OO_Rec3_Reg_Szn_Losses', 'OO_Rec3_Reg_Szn_Avg_Loss_Margin', \\\n",
    "       'OO_Rec3_Reg_Szn_Home_Wins', 'OO_Rec3_Reg_Szn_Avg_Home_Win_Margin', \\\n",
    "       'OO_Rec3_Reg_Szn_Home_Losses', 'OO_Rec3_Reg_Szn_Avg_Home_Loss_Margin', \\\n",
    "       'OO_Rec3_Reg_Szn_Away_Wins', 'OO_Rec3_Reg_Szn_Avg_Away_Win_Margin', \\\n",
    "       'OO_Rec3_Reg_Szn_Away_Losses', 'OO_Rec3_Reg_Szn_Avg_Away_Loss_Margin', \\\n",
    "       'WScore', 'O_TeamID', 'O_Reg_Szn_Wins', \\\n",
    "       'O_Reg_Szn_Losses', 'O_Reg_Szn_Home_Wins', 'O_Reg_Szn_Home_Losses', \\\n",
    "       'O_Reg_Szn_Away_Wins', 'O_Reg_Szn_Away_Losses', \\\n",
    "       'O_Reg_Szn_Neutral_Wins', 'O_Reg_Szn_Neutral_Losses', \\\n",
    "       'O_Rec1_Reg_Szn_Wins', 'O_Rec1_Reg_Szn_Avg_Win_Margin', \\\n",
    "       'O_Rec1_Reg_Szn_Losses', 'O_Rec1_Reg_Szn_Avg_Loss_Margin', \\\n",
    "       'O_Rec1_Reg_Szn_Home_Wins', 'O_Rec1_Reg_Szn_Avg_Home_Win_Margin', \\\n",
    "       'O_Rec1_Reg_Szn_Home_Losses', 'O_Rec1_Reg_Szn_Avg_Home_Loss_Margin', \\\n",
    "       'O_Rec1_Reg_Szn_Away_Wins', 'O_Rec1_Reg_Szn_Avg_Away_Win_Margin', \\\n",
    "       'O_Rec1_Reg_Szn_Away_Losses', 'O_Rec1_Reg_Szn_Avg_Away_Loss_Margin', \\\n",
    "       'O_Rec2_Reg_Szn_Wins', 'O_Rec2_Reg_Szn_Avg_Win_Margin', \\\n",
    "       'O_Rec2_Reg_Szn_Losses', 'O_Rec2_Reg_Szn_Avg_Loss_Margin', \\\n",
    "       'O_Rec2_Reg_Szn_Home_Wins', 'O_Rec2_Reg_Szn_Avg_Home_Win_Margin', \\\n",
    "       'O_Rec2_Reg_Szn_Home_Losses', 'O_Rec2_Reg_Szn_Avg_Home_Loss_Margin', \\\n",
    "       'O_Rec2_Reg_Szn_Away_Wins', 'O_Rec2_Reg_Szn_Avg_Away_Win_Margin', \\\n",
    "       'O_Rec2_Reg_Szn_Away_Losses', 'O_Rec2_Reg_Szn_Avg_Away_Loss_Margin', \\\n",
    "       'O_Rec3_Reg_Szn_Wins', 'O_Rec3_Reg_Szn_Avg_Win_Margin', \\\n",
    "       'O_Rec3_Reg_Szn_Losses', 'O_Rec3_Reg_Szn_Avg_Loss_Margin', \\\n",
    "       'O_Rec3_Reg_Szn_Home_Wins', 'O_Rec3_Reg_Szn_Avg_Home_Win_Margin', \\\n",
    "       'O_Rec3_Reg_Szn_Home_Losses', 'O_Rec3_Reg_Szn_Avg_Home_Loss_Margin', \\\n",
    "       'O_Rec3_Reg_Szn_Away_Wins', 'O_Rec3_Reg_Szn_Avg_Away_Win_Margin', \\\n",
    "       'O_Rec3_Reg_Szn_Away_Losses', 'O_Rec3_Reg_Szn_Avg_Away_Loss_Margin', 'NumOT', 'OOSeed', 'Oseed']]"
   ]
  },
  {
   "cell_type": "code",
   "execution_count": 97,
   "id": "93882117",
   "metadata": {},
   "outputs": [],
   "source": [
    "df_tempw2.columns = dfw.columns"
   ]
  },
  {
   "cell_type": "code",
   "execution_count": 98,
   "id": "45502cbb",
   "metadata": {},
   "outputs": [
    {
     "name": "stderr",
     "output_type": "stream",
     "text": [
      "C:\\Users\\ejgal\\AppData\\Local\\Temp/ipykernel_27512/1353671265.py:1: SettingWithCopyWarning: \n",
      "A value is trying to be set on a copy of a slice from a DataFrame.\n",
      "Try using .loc[row_indexer,col_indexer] = value instead\n",
      "\n",
      "See the caveats in the documentation: https://pandas.pydata.org/pandas-docs/stable/user_guide/indexing.html#returning-a-view-versus-a-copy\n",
      "  df_tempw2['Winner_Index'] = 0\n"
     ]
    }
   ],
   "source": [
    "df_tempw2['Winner_Index'] = 0\n",
    "df_tempw['Winner_Index'] = 1"
   ]
  },
  {
   "cell_type": "code",
   "execution_count": 99,
   "id": "b342a158",
   "metadata": {},
   "outputs": [],
   "source": [
    "wdf = pd.concat([df_tempw, df_tempw2])"
   ]
  },
  {
   "cell_type": "code",
   "execution_count": 100,
   "id": "1b7b38c2",
   "metadata": {},
   "outputs": [],
   "source": [
    "wdf = wdf.sample(frac = 1)"
   ]
  },
  {
   "cell_type": "code",
   "execution_count": 101,
   "id": "8d52479f",
   "metadata": {},
   "outputs": [],
   "source": [
    "del wdf['WScore']\n",
    "del wdf['LScore']"
   ]
  },
  {
   "cell_type": "code",
   "execution_count": 102,
   "id": "b2d1ecae",
   "metadata": {},
   "outputs": [
    {
     "name": "stderr",
     "output_type": "stream",
     "text": [
      "C:\\Users\\ejgal\\AppData\\Local\\Temp/ipykernel_27512/3806453204.py:8: SettingWithCopyWarning: \n",
      "A value is trying to be set on a copy of a slice from a DataFrame\n",
      "\n",
      "See the caveats in the documentation: https://pandas.pydata.org/pandas-docs/stable/user_guide/indexing.html#returning-a-view-versus-a-copy\n",
      "  wdf['Team1Region'][i] = 1\n",
      "C:\\Users\\ejgal\\AppData\\Local\\Temp/ipykernel_27512/3806453204.py:6: SettingWithCopyWarning: \n",
      "A value is trying to be set on a copy of a slice from a DataFrame\n",
      "\n",
      "See the caveats in the documentation: https://pandas.pydata.org/pandas-docs/stable/user_guide/indexing.html#returning-a-view-versus-a-copy\n",
      "  wdf['Team1Region'][i] = 0\n",
      "C:\\Users\\ejgal\\AppData\\Local\\Temp/ipykernel_27512/3806453204.py:10: SettingWithCopyWarning: \n",
      "A value is trying to be set on a copy of a slice from a DataFrame\n",
      "\n",
      "See the caveats in the documentation: https://pandas.pydata.org/pandas-docs/stable/user_guide/indexing.html#returning-a-view-versus-a-copy\n",
      "  wdf['Team1Region'][i] = 2\n",
      "C:\\Users\\ejgal\\AppData\\Local\\Temp/ipykernel_27512/3806453204.py:12: SettingWithCopyWarning: \n",
      "A value is trying to be set on a copy of a slice from a DataFrame\n",
      "\n",
      "See the caveats in the documentation: https://pandas.pydata.org/pandas-docs/stable/user_guide/indexing.html#returning-a-view-versus-a-copy\n",
      "  wdf['Team1Region'][i] = 3\n",
      "C:\\Users\\ejgal\\AppData\\Local\\Temp/ipykernel_27512/3806453204.py:18: SettingWithCopyWarning: \n",
      "A value is trying to be set on a copy of a slice from a DataFrame\n",
      "\n",
      "See the caveats in the documentation: https://pandas.pydata.org/pandas-docs/stable/user_guide/indexing.html#returning-a-view-versus-a-copy\n",
      "  wdf['Team2Region'][i] = 1\n",
      "C:\\Users\\ejgal\\AppData\\Local\\Temp/ipykernel_27512/3806453204.py:16: SettingWithCopyWarning: \n",
      "A value is trying to be set on a copy of a slice from a DataFrame\n",
      "\n",
      "See the caveats in the documentation: https://pandas.pydata.org/pandas-docs/stable/user_guide/indexing.html#returning-a-view-versus-a-copy\n",
      "  wdf['Team2Region'][i] = 0\n",
      "C:\\Users\\ejgal\\AppData\\Local\\Temp/ipykernel_27512/3806453204.py:22: SettingWithCopyWarning: \n",
      "A value is trying to be set on a copy of a slice from a DataFrame\n",
      "\n",
      "See the caveats in the documentation: https://pandas.pydata.org/pandas-docs/stable/user_guide/indexing.html#returning-a-view-versus-a-copy\n",
      "  wdf['Team2Region'][i] = 3\n",
      "C:\\Users\\ejgal\\AppData\\Local\\Temp/ipykernel_27512/3806453204.py:20: SettingWithCopyWarning: \n",
      "A value is trying to be set on a copy of a slice from a DataFrame\n",
      "\n",
      "See the caveats in the documentation: https://pandas.pydata.org/pandas-docs/stable/user_guide/indexing.html#returning-a-view-versus-a-copy\n",
      "  wdf['Team2Region'][i] = 2\n"
     ]
    }
   ],
   "source": [
    "wdf['Team1Region'] = 5\n",
    "wdf['Team2Region'] = 5\n",
    "\n",
    "for i in range(len(wdf)):\n",
    "    if wdf['Oseed'][i][0] == 'W':\n",
    "        wdf['Team1Region'][i] = 0\n",
    "    elif wdf['Oseed'][i][0] == 'X':\n",
    "        wdf['Team1Region'][i] = 1\n",
    "    elif wdf['Oseed'][i][0] == 'Y':\n",
    "        wdf['Team1Region'][i] = 2\n",
    "    else:\n",
    "        wdf['Team1Region'][i] = 3\n",
    "        \n",
    "for i in range(len(wdf)):\n",
    "    if wdf['OOSeed'][i][0] == 'W':\n",
    "        wdf['Team2Region'][i] = 0\n",
    "    elif wdf['OOSeed'][i][0] == 'X':\n",
    "        wdf['Team2Region'][i] = 1\n",
    "    elif wdf['OOSeed'][i][0] == 'Y':\n",
    "        wdf['Team2Region'][i] = 2\n",
    "    else:\n",
    "        wdf['Team2Region'][i] = 3"
   ]
  },
  {
   "cell_type": "code",
   "execution_count": 103,
   "id": "a2a78c0e",
   "metadata": {},
   "outputs": [
    {
     "name": "stderr",
     "output_type": "stream",
     "text": [
      "C:\\Users\\ejgal\\AppData\\Local\\Temp/ipykernel_27512/2128685664.py:2: SettingWithCopyWarning: \n",
      "A value is trying to be set on a copy of a slice from a DataFrame\n",
      "\n",
      "See the caveats in the documentation: https://pandas.pydata.org/pandas-docs/stable/user_guide/indexing.html#returning-a-view-versus-a-copy\n",
      "  wdf['Oseed'][i] = wdf['Oseed'][i][1] + wdf['Oseed'][i][2]\n",
      "C:\\Users\\ejgal\\AppData\\Local\\Temp/ipykernel_27512/2128685664.py:3: SettingWithCopyWarning: \n",
      "A value is trying to be set on a copy of a slice from a DataFrame\n",
      "\n",
      "See the caveats in the documentation: https://pandas.pydata.org/pandas-docs/stable/user_guide/indexing.html#returning-a-view-versus-a-copy\n",
      "  wdf['OOSeed'][i] = wdf['OOSeed'][i][1] + wdf['OOSeed'][i][2]\n"
     ]
    }
   ],
   "source": [
    "for i in range(len(wdf)):\n",
    "    wdf['Oseed'][i] = wdf['Oseed'][i][1] + wdf['Oseed'][i][2]\n",
    "    wdf['OOSeed'][i] = wdf['OOSeed'][i][1] + wdf['OOSeed'][i][2]"
   ]
  },
  {
   "cell_type": "code",
   "execution_count": 104,
   "id": "57a7dc4a",
   "metadata": {},
   "outputs": [],
   "source": [
    "wdf['Oseed'] = wdf['Oseed'].astype('int64')\n",
    "wdf['OOSeed'] = wdf['OOSeed'].astype('int64')"
   ]
  },
  {
   "cell_type": "code",
   "execution_count": 105,
   "id": "68ac2010",
   "metadata": {},
   "outputs": [],
   "source": [
    "del wdf['NumOT']"
   ]
  },
  {
   "cell_type": "code",
   "execution_count": 106,
   "id": "3af1b332",
   "metadata": {},
   "outputs": [],
   "source": [
    "wtrain_data = wdf[wdf['A_Season'] != 2017]\n",
    "wy_train = wtrain_data['Winner_Index']\n",
    "del wtrain_data['Winner_Index']\n",
    "xwtrain_data = wtrain_data\n",
    "\n",
    "wtest_data = wdf[wdf['A_Season'] == 2017]\n",
    "wy_test = wtest_data['Winner_Index']\n",
    "del wtest_data['Winner_Index']\n",
    "xwtest_data = wtest_data\n",
    "\n",
    "\n",
    "xwtrain_data = xwtrain_data.to_numpy()\n",
    "xwtest_data = xwtest_data.to_numpy()\n",
    "wy_train = wy_train.to_numpy()\n",
    "wy_test = wy_test.to_numpy()"
   ]
  },
  {
   "cell_type": "code",
   "execution_count": 107,
   "id": "cf6f6035",
   "metadata": {},
   "outputs": [],
   "source": [
    "pca = PCA(.99)\n",
    "pca.fit(xwtrain_data)\n",
    "xw_train_pca = pca.transform(xwtrain_data)\n",
    "xw_test_pca = pca.transform(xwtest_data)\n",
    "\n",
    "xw_train_mean = np.mean(xw_train_pca, axis = 0)\n",
    "xw_train_std = np.std(xw_train_pca, axis = 0)\n",
    "xw_train_pca = (xw_train_pca - xw_train_mean) / xw_train_std\n",
    "xw_test_pca = (xw_test_pca - xw_train_mean) / xw_train_std"
   ]
  },
  {
   "cell_type": "code",
   "execution_count": 108,
   "id": "1f3f3dca",
   "metadata": {},
   "outputs": [
    {
     "data": {
      "text/plain": [
       "array([ 0.74256129,  0.57325654, -0.31379352, -1.02185379,  2.15348085,\n",
       "        0.79178936,  0.47908486,  0.46656183,  3.02414116, -0.28966963,\n",
       "        0.21206994,  0.84493224,  0.87754557,  0.166553  ,  0.39225331,\n",
       "       -1.45040597,  0.83109045, -1.89621943, -0.24224927, -0.45623353,\n",
       "       -0.23646521,  1.06293101, -0.95729187])"
      ]
     },
     "execution_count": 108,
     "metadata": {},
     "output_type": "execute_result"
    }
   ],
   "source": [
    "xw_train_pca[0]"
   ]
  },
  {
   "cell_type": "code",
   "execution_count": 109,
   "id": "1d4ae68e",
   "metadata": {},
   "outputs": [],
   "source": [
    "# Seed value\n",
    "# Apparently you may use different seed values at each stage\n",
    "seed_value= 19\n",
    "\n",
    "# 1. Set the `PYTHONHASHSEED` environment variable at a fixed value\n",
    "import os\n",
    "os.environ['PYTHONHASHSEED']=str(seed_value)\n",
    "\n",
    "# 2. Set the `python` built-in pseudo-random generator at a fixed value\n",
    "import random\n",
    "random.seed(seed_value)\n",
    "\n",
    "# 3. Set the `numpy` pseudo-random generator at a fixed value\n",
    "np.random.seed(seed_value)\n",
    "\n",
    "# 4. Set the `tensorflow` pseudo-random generator at a fixed value\n",
    "import tensorflow as tf\n",
    "tf.random.set_seed(seed_value)\n",
    "# for later versions: \n",
    "# tf.compat.v1.set_random_seed(seed_value)"
   ]
  },
  {
   "cell_type": "code",
   "execution_count": 110,
   "id": "f915b1d0",
   "metadata": {},
   "outputs": [
    {
     "name": "stdout",
     "output_type": "stream",
     "text": [
      "2/2 [==============================] - 0s 4ms/step\n",
      "0.746268656716418\n"
     ]
    }
   ],
   "source": [
    "modelw = Sequential()\n",
    "modelw.add(Dense(10, input_shape=(xw_train_pca.shape[1],), activation='relu'))\n",
    "#modelw.add(Dense(10, input_shape=(xw_train_pca.shape[1],), activation='relu'))\n",
    "#modelw.add(Dense(40, input_shape=(xw_train_pca.shape[1],), activation='relu'))\n",
    "#odelw.add(Dense(8, input_shape=(xw_train_pca.shape[1],), activation='relu'))\n",
    "#modelw.add(Dense(8, input_shape=(xw_train_pca.shape[1],), activation='relu'))\n",
    "#model.add(Dense(10, input_shape=(x_train_pca.shape[1],), activation='relu'))\n",
    "#model.add(Dense(5, input_shape=(x_train_pca.shape[1],), activation='relu'))\n",
    "modelw.add(Dense(1, activation='sigmoid'))\n",
    "opt = keras.optimizers.Adam(learning_rate= .01)\n",
    "modelw.compile(loss='binary_crossentropy', optimizer=opt)\n",
    "modelw.fit(xw_train_pca, wy_train, epochs=100, verbose=0)\n",
    "# new instances where we do not know the answer\n",
    "# make a prediction\n",
    "wy_preds = modelw.predict(xw_test_pca)\n",
    "# show the inputs and predicted outputs\n",
    "\n",
    "#print(y_preds)\n",
    "\n",
    "wy_preds_adjusted = []\n",
    "for i in range(len(xw_test_pca)):\n",
    "    #print(\"X=%s, Predicted=%s\" % (x_val[i], y_preds[i]))\n",
    "    if(wy_preds[i] <= .5):\n",
    "        wy_preds_adjusted.append(0)\n",
    "    else:\n",
    "        wy_preds_adjusted.append(1)\n",
    "\n",
    "\n",
    "correct_count = 0\n",
    "for i in range(len(wy_preds_adjusted)):\n",
    "    if wy_preds_adjusted[i] == wy_test[i]:\n",
    "        correct_count = correct_count + 1\n",
    "\n",
    "print( correct_count / len(y_preds_adjusted))"
   ]
  },
  {
   "cell_type": "code",
   "execution_count": 111,
   "id": "3b30b480",
   "metadata": {},
   "outputs": [],
   "source": [
    "train_full = wdf\n",
    "wy_train_full = train_full['Winner_Index']\n",
    "del train_full['Winner_Index']\n",
    "xwtrain_data_full = train_full\n",
    "\n",
    "\n",
    "\n",
    "xwtrain_data_full = xwtrain_data_full.to_numpy()\n",
    "wy_train_full = wy_train_full.to_numpy()\n",
    "\n",
    "\n",
    "pca = PCA(.99)\n",
    "pca.fit(xwtrain_data_full)\n",
    "xw_train_pca_full = pca.transform(xwtrain_data_full)\n",
    "\n",
    "xw_train_mean = np.mean(xw_train_pca_full, axis = 0)\n",
    "xw_train_std = np.std(xw_train_pca_full, axis = 0)\n",
    "xw_train_pca_full = (xw_train_pca_full - xw_train_mean) / xw_train_std"
   ]
  },
  {
   "cell_type": "code",
   "execution_count": 112,
   "id": "357f5c02",
   "metadata": {},
   "outputs": [
    {
     "data": {
      "text/plain": [
       "<keras.callbacks.History at 0x218d07fd7c0>"
      ]
     },
     "execution_count": 112,
     "metadata": {},
     "output_type": "execute_result"
    }
   ],
   "source": [
    "modelw = Sequential()\n",
    "modelw.add(Dense(10, input_shape=(xw_train_pca_full.shape[1],), activation='relu'))\n",
    "#modelw.add(Dense(10, input_shape=(xw_train_pca.shape[1],), activation='relu'))\n",
    "#modelw.add(Dense(40, input_shape=(xw_train_pca.shape[1],), activation='relu'))\n",
    "#odelw.add(Dense(8, input_shape=(xw_train_pca.shape[1],), activation='relu'))\n",
    "#modelw.add(Dense(8, input_shape=(xw_train_pca.shape[1],), activation='relu'))\n",
    "#model.add(Dense(10, input_shape=(x_train_pca.shape[1],), activation='relu'))\n",
    "#model.add(Dense(5, input_shape=(x_train_pca.shape[1],), activation='relu'))\n",
    "modelw.add(Dense(1, activation='sigmoid'))\n",
    "opt = keras.optimizers.Adam(learning_rate= .01)\n",
    "modelw.compile(loss='binary_crossentropy', optimizer=opt)\n",
    "modelw.fit(xw_train_pca_full, wy_train_full, epochs=100, verbose=0)"
   ]
  },
  {
   "cell_type": "code",
   "execution_count": 113,
   "id": "0d791348",
   "metadata": {},
   "outputs": [],
   "source": [
    "df = pd.read_csv('Womens_Test.csv')"
   ]
  },
  {
   "cell_type": "code",
   "execution_count": 114,
   "id": "eb6b67dd",
   "metadata": {},
   "outputs": [],
   "source": [
    "del df['OO_Season']"
   ]
  },
  {
   "cell_type": "code",
   "execution_count": 115,
   "id": "177cb56b",
   "metadata": {},
   "outputs": [],
   "source": [
    "df['DayNum'] = 0"
   ]
  },
  {
   "cell_type": "code",
   "execution_count": 116,
   "id": "ae32e242",
   "metadata": {},
   "outputs": [],
   "source": [
    "df = df[['O_Season', 'DayNum','O_TeamID', 'O_Reg_Szn_Wins', 'O_Reg_Szn_Losses',\n",
    "       'O_Reg_Szn_Home_Wins', 'O_Reg_Szn_Home_Losses', 'O_Reg_Szn_Away_Wins',\n",
    "       'O_Reg_Szn_Away_Losses', 'O_Reg_Szn_Neutral_Wins',\n",
    "       'O_Reg_Szn_Neutral_Losses', 'O_Rec1_Reg_Szn_Wins',\n",
    "       'O_Rec1_Reg_Szn_Avg_Win_Margin', 'O_Rec1_Reg_Szn_Losses',\n",
    "       'O_Rec1_Reg_Szn_Avg_Loss_Margin', 'O_Rec1_Reg_Szn_Home_Wins',\n",
    "       'O_Rec1_Reg_Szn_Avg_Home_Win_Margin', 'O_Rec1_Reg_Szn_Home_Losses',\n",
    "       'O_Rec1_Reg_Szn_Avg_Home_Loss_Margin', 'O_Rec1_Reg_Szn_Away_Wins',\n",
    "       'O_Rec1_Reg_Szn_Avg_Away_Win_Margin', 'O_Rec1_Reg_Szn_Away_Losses',\n",
    "       'O_Rec1_Reg_Szn_Avg_Away_Loss_Margin', 'O_Rec2_Reg_Szn_Wins',\n",
    "       'O_Rec2_Reg_Szn_Avg_Win_Margin', 'O_Rec2_Reg_Szn_Losses',\n",
    "       'O_Rec2_Reg_Szn_Avg_Loss_Margin', 'O_Rec2_Reg_Szn_Home_Wins',\n",
    "       'O_Rec2_Reg_Szn_Avg_Home_Win_Margin', 'O_Rec2_Reg_Szn_Home_Losses',\n",
    "       'O_Rec2_Reg_Szn_Avg_Home_Loss_Margin', 'O_Rec2_Reg_Szn_Away_Wins',\n",
    "       'O_Rec2_Reg_Szn_Avg_Away_Win_Margin', 'O_Rec2_Reg_Szn_Away_Losses',\n",
    "       'O_Rec2_Reg_Szn_Avg_Away_Loss_Margin', 'O_Rec3_Reg_Szn_Wins',\n",
    "       'O_Rec3_Reg_Szn_Avg_Win_Margin', 'O_Rec3_Reg_Szn_Losses',\n",
    "       'O_Rec3_Reg_Szn_Avg_Loss_Margin', 'O_Rec3_Reg_Szn_Home_Wins',\n",
    "       'O_Rec3_Reg_Szn_Avg_Home_Win_Margin', 'O_Rec3_Reg_Szn_Home_Losses',\n",
    "       'O_Rec3_Reg_Szn_Avg_Home_Loss_Margin', 'O_Rec3_Reg_Szn_Away_Wins',\n",
    "       'O_Rec3_Reg_Szn_Avg_Away_Win_Margin', 'O_Rec3_Reg_Szn_Away_Losses',\n",
    "       'O_Rec3_Reg_Szn_Avg_Away_Loss_Margin', 'OO_TeamID', 'OO_Reg_Szn_Wins',\n",
    "       'OO_Reg_Szn_Losses', 'OO_Reg_Szn_Home_Wins', 'OO_Reg_Szn_Home_Losses',\n",
    "       'OO_Reg_Szn_Away_Wins', 'OO_Reg_Szn_Away_Losses',\n",
    "       'OO_Reg_Szn_Neutral_Wins', 'OO_Reg_Szn_Neutral_Losses',\n",
    "       'OO_Rec1_Reg_Szn_Wins', 'OO_Rec1_Reg_Szn_Avg_Win_Margin',\n",
    "       'OO_Rec1_Reg_Szn_Losses', 'OO_Rec1_Reg_Szn_Avg_Loss_Margin',\n",
    "       'OO_Rec1_Reg_Szn_Home_Wins', 'OO_Rec1_Reg_Szn_Avg_Home_Win_Margin',\n",
    "       'OO_Rec1_Reg_Szn_Home_Losses', 'OO_Rec1_Reg_Szn_Avg_Home_Loss_Margin',\n",
    "       'OO_Rec1_Reg_Szn_Away_Wins', 'OO_Rec1_Reg_Szn_Avg_Away_Win_Margin',\n",
    "       'OO_Rec1_Reg_Szn_Away_Losses', 'OO_Rec1_Reg_Szn_Avg_Away_Loss_Margin',\n",
    "       'OO_Rec2_Reg_Szn_Wins', 'OO_Rec2_Reg_Szn_Avg_Win_Margin',\n",
    "       'OO_Rec2_Reg_Szn_Losses', 'OO_Rec2_Reg_Szn_Avg_Loss_Margin',\n",
    "       'OO_Rec2_Reg_Szn_Home_Wins', 'OO_Rec2_Reg_Szn_Avg_Home_Win_Margin',\n",
    "       'OO_Rec2_Reg_Szn_Home_Losses', 'OO_Rec2_Reg_Szn_Avg_Home_Loss_Margin',\n",
    "       'OO_Rec2_Reg_Szn_Away_Wins', 'OO_Rec2_Reg_Szn_Avg_Away_Win_Margin',\n",
    "       'OO_Rec2_Reg_Szn_Away_Losses', 'OO_Rec2_Reg_Szn_Avg_Away_Loss_Margin',\n",
    "       'OO_Rec3_Reg_Szn_Wins', 'OO_Rec3_Reg_Szn_Avg_Win_Margin',\n",
    "       'OO_Rec3_Reg_Szn_Losses', 'OO_Rec3_Reg_Szn_Avg_Loss_Margin',\n",
    "       'OO_Rec3_Reg_Szn_Home_Wins', 'OO_Rec3_Reg_Szn_Avg_Home_Win_Margin',\n",
    "       'OO_Rec3_Reg_Szn_Home_Losses', 'OO_Rec3_Reg_Szn_Avg_Home_Loss_Margin',\n",
    "       'OO_Rec3_Reg_Szn_Away_Wins', 'OO_Rec3_Reg_Szn_Avg_Away_Win_Margin',\n",
    "       'OO_Rec3_Reg_Szn_Away_Losses', 'OO_Rec3_Reg_Szn_Avg_Away_Loss_Margin',\n",
    "       'Oseed', 'OOSeed']]"
   ]
  },
  {
   "cell_type": "code",
   "execution_count": 117,
   "id": "88c3d5f5",
   "metadata": {},
   "outputs": [],
   "source": [
    "df.columns = ['O_Season', 'DayNum','O_TeamID', 'O_Reg_Szn_Wins', 'O_Reg_Szn_Losses',\n",
    "       'O_Reg_Szn_Home_Wins', 'O_Reg_Szn_Home_Losses', 'O_Reg_Szn_Away_Wins',\n",
    "       'O_Reg_Szn_Away_Losses', 'O_Reg_Szn_Neutral_Wins',\n",
    "       'O_Reg_Szn_Neutral_Losses', 'O_Rec1_Reg_Szn_Wins',\n",
    "       'O_Rec1_Reg_Szn_Avg_Win_Margin', 'O_Rec1_Reg_Szn_Losses',\n",
    "       'O_Rec1_Reg_Szn_Avg_Loss_Margin', 'O_Rec1_Reg_Szn_Home_Wins',\n",
    "       'O_Rec1_Reg_Szn_Avg_Home_Win_Margin', 'O_Rec1_Reg_Szn_Home_Losses',\n",
    "       'O_Rec1_Reg_Szn_Avg_Home_Loss_Margin', 'O_Rec1_Reg_Szn_Away_Wins',\n",
    "       'O_Rec1_Reg_Szn_Avg_Away_Win_Margin', 'O_Rec1_Reg_Szn_Away_Losses',\n",
    "       'O_Rec1_Reg_Szn_Avg_Away_Loss_Margin', 'O_Rec2_Reg_Szn_Wins',\n",
    "       'O_Rec2_Reg_Szn_Avg_Win_Margin', 'O_Rec2_Reg_Szn_Losses',\n",
    "       'O_Rec2_Reg_Szn_Avg_Loss_Margin', 'O_Rec2_Reg_Szn_Home_Wins',\n",
    "       'O_Rec2_Reg_Szn_Avg_Home_Win_Margin', 'O_Rec2_Reg_Szn_Home_Losses',\n",
    "       'O_Rec2_Reg_Szn_Avg_Home_Loss_Margin', 'O_Rec2_Reg_Szn_Away_Wins',\n",
    "       'O_Rec2_Reg_Szn_Avg_Away_Win_Margin', 'O_Rec2_Reg_Szn_Away_Losses',\n",
    "       'O_Rec2_Reg_Szn_Avg_Away_Loss_Margin', 'O_Rec3_Reg_Szn_Wins',\n",
    "       'O_Rec3_Reg_Szn_Avg_Win_Margin', 'O_Rec3_Reg_Szn_Losses',\n",
    "       'O_Rec3_Reg_Szn_Avg_Loss_Margin', 'O_Rec3_Reg_Szn_Home_Wins',\n",
    "       'O_Rec3_Reg_Szn_Avg_Home_Win_Margin', 'O_Rec3_Reg_Szn_Home_Losses',\n",
    "       'O_Rec3_Reg_Szn_Avg_Home_Loss_Margin', 'O_Rec3_Reg_Szn_Away_Wins',\n",
    "       'O_Rec3_Reg_Szn_Avg_Away_Win_Margin', 'O_Rec3_Reg_Szn_Away_Losses',\n",
    "       'O_Rec3_Reg_Szn_Avg_Away_Loss_Margin', 'OO_TeamID', 'OO_Reg_Szn_Wins',\n",
    "       'OO_Reg_Szn_Losses', 'OO_Reg_Szn_Home_Wins', 'OO_Reg_Szn_Home_Losses',\n",
    "       'OO_Reg_Szn_Away_Wins', 'OO_Reg_Szn_Away_Losses',\n",
    "       'OO_Reg_Szn_Neutral_Wins', 'OO_Reg_Szn_Neutral_Losses',\n",
    "       'OO_Rec1_Reg_Szn_Wins', 'OO_Rec1_Reg_Szn_Avg_Win_Margin',\n",
    "       'OO_Rec1_Reg_Szn_Losses', 'OO_Rec1_Reg_Szn_Avg_Loss_Margin',\n",
    "       'OO_Rec1_Reg_Szn_Home_Wins', 'OO_Rec1_Reg_Szn_Avg_Home_Win_Margin',\n",
    "       'OO_Rec1_Reg_Szn_Home_Losses', 'OO_Rec1_Reg_Szn_Avg_Home_Loss_Margin',\n",
    "       'OO_Rec1_Reg_Szn_Away_Wins', 'OO_Rec1_Reg_Szn_Avg_Away_Win_Margin',\n",
    "       'OO_Rec1_Reg_Szn_Away_Losses', 'OO_Rec1_Reg_Szn_Avg_Away_Loss_Margin',\n",
    "       'OO_Rec2_Reg_Szn_Wins', 'OO_Rec2_Reg_Szn_Avg_Win_Margin',\n",
    "       'OO_Rec2_Reg_Szn_Losses', 'OO_Rec2_Reg_Szn_Avg_Loss_Margin',\n",
    "       'OO_Rec2_Reg_Szn_Home_Wins', 'OO_Rec2_Reg_Szn_Avg_Home_Win_Margin',\n",
    "       'OO_Rec2_Reg_Szn_Home_Losses', 'OO_Rec2_Reg_Szn_Avg_Home_Loss_Margin',\n",
    "       'OO_Rec2_Reg_Szn_Away_Wins', 'OO_Rec2_Reg_Szn_Avg_Away_Win_Margin',\n",
    "       'OO_Rec2_Reg_Szn_Away_Losses', 'OO_Rec2_Reg_Szn_Avg_Away_Loss_Margin',\n",
    "       'OO_Rec3_Reg_Szn_Wins', 'OO_Rec3_Reg_Szn_Avg_Win_Margin',\n",
    "       'OO_Rec3_Reg_Szn_Losses', 'OO_Rec3_Reg_Szn_Avg_Loss_Margin',\n",
    "       'OO_Rec3_Reg_Szn_Home_Wins', 'OO_Rec3_Reg_Szn_Avg_Home_Win_Margin',\n",
    "       'OO_Rec3_Reg_Szn_Home_Losses', 'OO_Rec3_Reg_Szn_Avg_Home_Loss_Margin',\n",
    "       'OO_Rec3_Reg_Szn_Away_Wins', 'OO_Rec3_Reg_Szn_Avg_Away_Win_Margin',\n",
    "       'OO_Rec3_Reg_Szn_Away_Losses', 'OO_Rec3_Reg_Szn_Avg_Away_Loss_Margin',\n",
    "       'Oseed', 'OOSeed']"
   ]
  },
  {
   "cell_type": "code",
   "execution_count": 118,
   "id": "7e2340a3",
   "metadata": {},
   "outputs": [],
   "source": [
    "#Note: In actual competiion, I might have gotten rid of some conference/round columns for women's tournament also"
   ]
  },
  {
   "cell_type": "code",
   "execution_count": 119,
   "id": "c524ac7d",
   "metadata": {},
   "outputs": [
    {
     "name": "stderr",
     "output_type": "stream",
     "text": [
      "C:\\Users\\ejgal\\AppData\\Local\\Temp/ipykernel_27512/182706304.py:12: SettingWithCopyWarning: \n",
      "A value is trying to be set on a copy of a slice from a DataFrame\n",
      "\n",
      "See the caveats in the documentation: https://pandas.pydata.org/pandas-docs/stable/user_guide/indexing.html#returning-a-view-versus-a-copy\n",
      "  df['Team1Region'][i] = 3\n",
      "C:\\Users\\ejgal\\AppData\\Local\\Temp/ipykernel_27512/182706304.py:6: SettingWithCopyWarning: \n",
      "A value is trying to be set on a copy of a slice from a DataFrame\n",
      "\n",
      "See the caveats in the documentation: https://pandas.pydata.org/pandas-docs/stable/user_guide/indexing.html#returning-a-view-versus-a-copy\n",
      "  df['Team1Region'][i] = 0\n",
      "C:\\Users\\ejgal\\AppData\\Local\\Temp/ipykernel_27512/182706304.py:10: SettingWithCopyWarning: \n",
      "A value is trying to be set on a copy of a slice from a DataFrame\n",
      "\n",
      "See the caveats in the documentation: https://pandas.pydata.org/pandas-docs/stable/user_guide/indexing.html#returning-a-view-versus-a-copy\n",
      "  df['Team1Region'][i] = 2\n",
      "C:\\Users\\ejgal\\AppData\\Local\\Temp/ipykernel_27512/182706304.py:8: SettingWithCopyWarning: \n",
      "A value is trying to be set on a copy of a slice from a DataFrame\n",
      "\n",
      "See the caveats in the documentation: https://pandas.pydata.org/pandas-docs/stable/user_guide/indexing.html#returning-a-view-versus-a-copy\n",
      "  df['Team1Region'][i] = 1\n",
      "C:\\Users\\ejgal\\AppData\\Local\\Temp/ipykernel_27512/182706304.py:16: SettingWithCopyWarning: \n",
      "A value is trying to be set on a copy of a slice from a DataFrame\n",
      "\n",
      "See the caveats in the documentation: https://pandas.pydata.org/pandas-docs/stable/user_guide/indexing.html#returning-a-view-versus-a-copy\n",
      "  df['Team2Region'][i] = 0\n",
      "C:\\Users\\ejgal\\AppData\\Local\\Temp/ipykernel_27512/182706304.py:22: SettingWithCopyWarning: \n",
      "A value is trying to be set on a copy of a slice from a DataFrame\n",
      "\n",
      "See the caveats in the documentation: https://pandas.pydata.org/pandas-docs/stable/user_guide/indexing.html#returning-a-view-versus-a-copy\n",
      "  df['Team2Region'][i] = 3\n",
      "C:\\Users\\ejgal\\AppData\\Local\\Temp/ipykernel_27512/182706304.py:20: SettingWithCopyWarning: \n",
      "A value is trying to be set on a copy of a slice from a DataFrame\n",
      "\n",
      "See the caveats in the documentation: https://pandas.pydata.org/pandas-docs/stable/user_guide/indexing.html#returning-a-view-versus-a-copy\n",
      "  df['Team2Region'][i] = 2\n",
      "C:\\Users\\ejgal\\AppData\\Local\\Temp/ipykernel_27512/182706304.py:18: SettingWithCopyWarning: \n",
      "A value is trying to be set on a copy of a slice from a DataFrame\n",
      "\n",
      "See the caveats in the documentation: https://pandas.pydata.org/pandas-docs/stable/user_guide/indexing.html#returning-a-view-versus-a-copy\n",
      "  df['Team2Region'][i] = 1\n"
     ]
    }
   ],
   "source": [
    "df['Team1Region'] = 5\n",
    "df['Team2Region'] = 5\n",
    "\n",
    "for i in range(len(wdf)):\n",
    "    if df['Oseed'][i][0] == 'W':\n",
    "        df['Team1Region'][i] = 0\n",
    "    elif df['Oseed'][i][0] == 'X':\n",
    "        df['Team1Region'][i] = 1\n",
    "    elif df['Oseed'][i][0] == 'Y':\n",
    "        df['Team1Region'][i] = 2\n",
    "    else:\n",
    "        df['Team1Region'][i] = 3\n",
    "        \n",
    "for i in range(len(wdf)):\n",
    "    if df['OOSeed'][i][0] == 'W':\n",
    "        df['Team2Region'][i] = 0\n",
    "    elif df['OOSeed'][i][0] == 'X':\n",
    "        df['Team2Region'][i] = 1\n",
    "    elif df['OOSeed'][i][0] == 'Y':\n",
    "        df['Team2Region'][i] = 2\n",
    "    else:\n",
    "        df['Team2Region'][i] = 3"
   ]
  },
  {
   "cell_type": "code",
   "execution_count": 120,
   "id": "814e8f96",
   "metadata": {},
   "outputs": [
    {
     "name": "stderr",
     "output_type": "stream",
     "text": [
      "C:\\Users\\ejgal\\AppData\\Local\\Temp/ipykernel_27512/3675905173.py:2: SettingWithCopyWarning: \n",
      "A value is trying to be set on a copy of a slice from a DataFrame\n",
      "\n",
      "See the caveats in the documentation: https://pandas.pydata.org/pandas-docs/stable/user_guide/indexing.html#returning-a-view-versus-a-copy\n",
      "  df['Oseed'][i] = df['Oseed'][i][1] + df['Oseed'][i][2]\n",
      "C:\\Users\\ejgal\\AppData\\Local\\Temp/ipykernel_27512/3675905173.py:3: SettingWithCopyWarning: \n",
      "A value is trying to be set on a copy of a slice from a DataFrame\n",
      "\n",
      "See the caveats in the documentation: https://pandas.pydata.org/pandas-docs/stable/user_guide/indexing.html#returning-a-view-versus-a-copy\n",
      "  df['OOSeed'][i] = df['OOSeed'][i][1] + df['OOSeed'][i][2]\n"
     ]
    }
   ],
   "source": [
    "for i in range(len(df)):\n",
    "    df['Oseed'][i] = df['Oseed'][i][1] + df['Oseed'][i][2]\n",
    "    df['OOSeed'][i] = df['OOSeed'][i][1] + df['OOSeed'][i][2]"
   ]
  },
  {
   "cell_type": "code",
   "execution_count": 121,
   "id": "22d491f3",
   "metadata": {},
   "outputs": [],
   "source": [
    "df['Oseed'] = df['Oseed'].astype('int64')\n",
    "df['OOSeed'] = df['OOSeed'].astype('int64')"
   ]
  },
  {
   "cell_type": "code",
   "execution_count": 122,
   "id": "ae46cd40",
   "metadata": {},
   "outputs": [
    {
     "name": "stdout",
     "output_type": "stream",
     "text": [
      "96\n",
      "96\n"
     ]
    }
   ],
   "source": [
    "print(len(df.columns))\n",
    "print(len(wdf.columns))"
   ]
  },
  {
   "cell_type": "code",
   "execution_count": 123,
   "id": "a5ab5ed9",
   "metadata": {},
   "outputs": [],
   "source": [
    "w_test = df.to_numpy()\n",
    "w_test = pca.transform(w_test)\n",
    "w_test= (w_test - xw_train_mean) / xw_train_std"
   ]
  },
  {
   "cell_type": "code",
   "execution_count": 124,
   "id": "ff284fe3",
   "metadata": {},
   "outputs": [
    {
     "data": {
      "text/plain": [
       "array([ 1.52369568,  2.0372988 , -1.37782513, -2.10489161, -0.65978252,\n",
       "       -0.17837582, -0.13783662,  0.08010428,  0.52683514,  2.63516812,\n",
       "        0.06471817,  0.37033362, -7.7357553 ,  1.68296056, -5.4905344 ,\n",
       "        3.24097889, -0.32168346,  1.34747526,  1.189896  ,  4.28445366,\n",
       "        7.35738579, 11.42645435,  6.50432876])"
      ]
     },
     "execution_count": 124,
     "metadata": {},
     "output_type": "execute_result"
    }
   ],
   "source": [
    "w_test[0]"
   ]
  },
  {
   "cell_type": "code",
   "execution_count": 125,
   "id": "ed51c4e3",
   "metadata": {},
   "outputs": [
    {
     "name": "stdout",
     "output_type": "stream",
     "text": [
      "72/72 [==============================] - 0s 3ms/step\n"
     ]
    }
   ],
   "source": [
    "womens_preds = modelw.predict(w_test)"
   ]
  },
  {
   "cell_type": "code",
   "execution_count": 126,
   "id": "bb42cf3f",
   "metadata": {},
   "outputs": [],
   "source": [
    "wdf_predictions = pd.DataFrame()\n",
    "wdf_predictions['Team1ID'] = 0\n",
    "wdf_predictions['Team2ID'] = 0\n",
    "wdf_predictions['WinProb_Team1'] = 0"
   ]
  },
  {
   "cell_type": "code",
   "execution_count": 127,
   "id": "f41531dc",
   "metadata": {},
   "outputs": [],
   "source": [
    "for i in range(len(womens_preds)):\n",
    "    wdf_predictions.loc[len(wdf_predictions.index)] = [df['O_TeamID'][i], df['OO_TeamID'][i], womens_preds[i][0]] "
   ]
  },
  {
   "cell_type": "code",
   "execution_count": 128,
   "id": "9b7085ef",
   "metadata": {},
   "outputs": [],
   "source": [
    "wdf_predictions.to_csv('WomMen_Predictions_Trial1.csv')"
   ]
  },
  {
   "cell_type": "code",
   "execution_count": null,
   "id": "4f0a5d2a",
   "metadata": {},
   "outputs": [],
   "source": []
  }
 ],
 "metadata": {
  "kernelspec": {
   "display_name": "Python 3 (ipykernel)",
   "language": "python",
   "name": "python3"
  },
  "language_info": {
   "codemirror_mode": {
    "name": "ipython",
    "version": 3
   },
   "file_extension": ".py",
   "mimetype": "text/x-python",
   "name": "python",
   "nbconvert_exporter": "python",
   "pygments_lexer": "ipython3",
   "version": "3.9.7"
  }
 },
 "nbformat": 4,
 "nbformat_minor": 5
}
